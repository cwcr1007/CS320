{
 "cells": [
  {
   "cell_type": "code",
   "execution_count": 1,
   "metadata": {},
   "outputs": [],
   "source": [
    "from zipfile import ZipFile\n",
    "from io import TextIOWrapper\n",
    "import csv"
   ]
  },
  {
   "cell_type": "code",
   "execution_count": 2,
   "metadata": {},
   "outputs": [],
   "source": [
    "class ZippedCSVReader():\n",
    "    def __init__(self, filename):\n",
    "        self.filename = filename\n",
    "        paths = []\n",
    "        with ZipFile(self.filename) as zf:\n",
    "            for info in zf.infolist():\n",
    "                paths.append(info.filename)\n",
    "        self.paths = sorted(paths)\n",
    "                \n",
    "    def __str__(self):\n",
    "        return self.paths\n",
    "    \n",
    "    def lines(self, name):\n",
    "        with ZipFile(self.filename) as zf:\n",
    "            with zf.open(name) as f:\n",
    "                for line in TextIOWrapper(f):\n",
    "                    yield line\n",
    "    \n",
    "    def csv_iter(self, name = None):\n",
    "        with ZipFile(self.filename) as zf:\n",
    "            if name == None:\n",
    "                    for i in self.paths:\n",
    "                        with zf.open(i, \"r\") as csvfile:\n",
    "                            tio1 = TextIOWrapper(csvfile)\n",
    "                            reader = csv.DictReader(tio1)\n",
    "                            for row in reader:\n",
    "                                yield row\n",
    "            \n",
    "            else:\n",
    "                with zf.open(name, \"r\") as csvfile:\n",
    "                    tio2 = TextIOWrapper(csvfile)\n",
    "                    reader = csv.DictReader(tio2)\n",
    "                    for row in reader:\n",
    "                        yield row"
   ]
  },
  {
   "cell_type": "code",
   "execution_count": 3,
   "metadata": {},
   "outputs": [],
   "source": [
    "data_reader = ZippedCSVReader(\"mini.zip\")\n",
    "tree_reader = ZippedCSVReader(\"trees.zip\")"
   ]
  },
  {
   "cell_type": "code",
   "execution_count": 4,
   "metadata": {},
   "outputs": [
    {
     "name": "stdout",
     "output_type": "stream",
     "text": [
      "['il.csv', 'la.csv', 'wi.csv']\n"
     ]
    }
   ],
   "source": [
    "print(data_reader.paths) # in alphabetical order"
   ]
  },
  {
   "cell_type": "code",
   "execution_count": 295,
   "metadata": {},
   "outputs": [],
   "source": [
    "class Loan:\n",
    "    def __init__(self, amount, purpose, race, income, decision):\n",
    "        self.amount = amount\n",
    "        self.purpose = purpose\n",
    "        self.race = race\n",
    "        self.income = income\n",
    "        self.decision = decision\n",
    "        self.list = [self.amount,self.purpose,self.race,self.income,self.decision]\n",
    "\n",
    "    def __repr__(self):\n",
    "        return f\"Loan({self.amount}, '{self.purpose}', '{self.race}', {self.income}, '{self.decision}')\"\n",
    "\n",
    "    def __getitem__(self, lookup):\n",
    "        if hasattr(self, str(lookup)) == False:\n",
    "            #print(\"hello\")\n",
    "            for i in self.list:\n",
    "                #print(i)\n",
    "                if lookup == i:\n",
    "                    return 1\n",
    "            return 0\n",
    "        \n",
    "        else:\n",
    "            return getattr(self, lookup)\n",
    "    \n",
    "    def set_race(self, val):\n",
    "        self.race = val\n",
    "        self.list[2] = val"
   ]
  },
  {
   "cell_type": "code",
   "execution_count": 296,
   "metadata": {},
   "outputs": [],
   "source": [
    "loan = Loan(40, \"Home improvement\", \"Asian\", 120, \"approve\")"
   ]
  },
  {
   "cell_type": "code",
   "execution_count": 297,
   "metadata": {},
   "outputs": [
    {
     "data": {
      "text/plain": [
       "1"
      ]
     },
     "execution_count": 297,
     "metadata": {},
     "output_type": "execute_result"
    }
   ],
   "source": [
    "loan.set_race(\"white\")\n",
    "loan[\"white\"]"
   ]
  },
  {
   "cell_type": "code",
   "execution_count": 298,
   "metadata": {},
   "outputs": [],
   "source": [
    "def get_bank_names(reader):\n",
    "    bank_list = []\n",
    "    for row in reader.csv_iter():\n",
    "        for i in row:\n",
    "            if i == \"agency_abbr\":\n",
    "                if not row[i] in bank_list:\n",
    "                    bank_list.append(row[i])\n",
    "    return sorted(bank_list)"
   ]
  },
  {
   "cell_type": "code",
   "execution_count": 299,
   "metadata": {},
   "outputs": [],
   "source": [
    "class Bank:\n",
    "    def __init__(self, name, reader):\n",
    "        self.reader = reader\n",
    "        self.name = name\n",
    "    \n",
    "    def loan_iter(self):\n",
    "                    \n",
    "        for row in self.reader.csv_iter():\n",
    "            if self.name == None:\n",
    "                if row[\"action_taken_name\"] == \"Loan originated\":\n",
    "                    decision = \"approve\"\n",
    "                if row[\"action_taken_name\"] != \"Loan originated\":\n",
    "                    decision = \"deny\"\n",
    "                if row[\"loan_amount_000s\"]==\"\":\n",
    "                    amount = 0\n",
    "                if row[\"loan_amount_000s\"]!=\"\":\n",
    "                    amount = int(row[\"loan_amount_000s\"])\n",
    "                if row[\"applicant_income_000s\"] ==\"\":\n",
    "                    income = 0\n",
    "                if row[\"applicant_income_000s\"] !=\"\":\n",
    "                    income = int(row[\"applicant_income_000s\"])\n",
    "\n",
    "                loan = Loan(amount, row[\"loan_purpose_name\"],row[\"applicant_race_name_1\"],income,decision)\n",
    "                yield loan\n",
    "            \n",
    "            \n",
    "            for i in row:\n",
    "                if i == \"agency_abbr\" and row[i] == self.name:\n",
    "                    if row[\"action_taken_name\"] == \"Loan originated\":\n",
    "                        decision = \"approve\"\n",
    "                    if row[\"action_taken_name\"] != \"Loan originated\":\n",
    "                        decision = \"deny\"\n",
    "                    if row[\"loan_amount_000s\"]==\"\":\n",
    "                        amount = 0\n",
    "                    if row[\"loan_amount_000s\"]!=\"\":\n",
    "                        amount = int(row[\"loan_amount_000s\"])\n",
    "                    if row[\"applicant_income_000s\"] ==\"\":\n",
    "                        income = 0\n",
    "                    if row[\"applicant_income_000s\"] !=\"\":\n",
    "                        income = int(row[\"applicant_income_000s\"])\n",
    "                        \n",
    "                    loan = Loan(amount, row[\"loan_purpose_name\"],row[\"applicant_race_name_1\"],income,decision)\n",
    "                    yield loan\n",
    "    \n",
    "    def loan_filter(self, loan_min, loan_max, loan_purpose):\n",
    "        for i in self.loan_iter():\n",
    "            if i[\"amount\"] >= loan_min and i[\"amount\"] <= loan_max and i[\"purpose\"]==loan_purpose:\n",
    "                yield i"
   ]
  },
  {
   "cell_type": "code",
   "execution_count": 300,
   "metadata": {},
   "outputs": [
    {
     "name": "stdout",
     "output_type": "stream",
     "text": [
      "Loan(80, 'Refinancing', 'Black or African American', 0, 'deny')\n",
      "Loan(165, 'Refinancing', 'Information not provided by applicant in mail, Internet, or telephone application', 33, 'approve')\n",
      "Loan(133, 'Home purchase', 'White', 45, 'approve')\n",
      "Loan(1112, 'Home purchase', 'White', 388, 'approve')\n",
      "Loan(90, 'Refinancing', 'White', 29, 'deny')\n",
      "Loan(385, 'Home purchase', 'White', 227, 'approve')\n",
      "Loan(8, 'Home purchase', 'White', 44, 'deny')\n",
      "Loan(216, 'Home purchase', 'White', 82, 'approve')\n",
      "Loan(582, 'Home purchase', 'White', 149, 'approve')\n",
      "Loan(424, 'Home purchase', 'White', 212, 'approve')\n",
      "Loan(58, 'Home purchase', 'White', 125, 'approve')\n",
      "Loan(87, 'Refinancing', 'Information not provided by applicant in mail, Internet, or telephone application', 0, 'approve')\n",
      "Loan(80, 'Refinancing', 'Black or African American', 160, 'deny')\n",
      "Loan(64, 'Refinancing', 'White', 73, 'deny')\n",
      "Loan(101, 'Home purchase', 'Black or African American', 21, 'approve')\n",
      "Loan(125, 'Refinancing', 'White', 188, 'approve')\n",
      "Loan(119, 'Home purchase', 'White', 75, 'approve')\n",
      "Loan(246, 'Refinancing', 'Information not provided by applicant in mail, Internet, or telephone application', 111, 'approve')\n",
      "Loan(100, 'Home purchase', 'Information not provided by applicant in mail, Internet, or telephone application', 17, 'deny')\n",
      "Loan(114, 'Home purchase', 'White', 29, 'deny')\n",
      "Loan(89, 'Refinancing', 'White', 96, 'deny')\n",
      "Loan(94, 'Refinancing', 'White', 31, 'approve')\n",
      "Loan(17, 'Home purchase', 'White', 94, 'approve')\n",
      "Loan(82, 'Home purchase', 'White', 74, 'approve')\n",
      "Loan(99, 'Home purchase', 'Asian', 86, 'deny')\n"
     ]
    }
   ],
   "source": [
    "reader = ZippedCSVReader(\"mini.zip\")\n",
    "b = Bank(None, reader)\n",
    "for i in b.loan_iter():\n",
    "    print(i)"
   ]
  },
  {
   "cell_type": "code",
   "execution_count": 301,
   "metadata": {},
   "outputs": [],
   "source": [
    "class SimplePredictor():\n",
    "    def __init__(self):\n",
    "        self.approve = 0\n",
    "        \n",
    "    def predict(self, loan):\n",
    "        if loan[\"purpose\"] == \"Home improvement\":\n",
    "            self.approve += 1\n",
    "            return True\n",
    "        else:\n",
    "            return False\n",
    "\n",
    "    def getApproved(self):\n",
    "        return self.approve"
   ]
  },
  {
   "cell_type": "code",
   "execution_count": 302,
   "metadata": {},
   "outputs": [],
   "source": [
    "class Node():\n",
    "    def __init__(self, key, val):\n",
    "        self.key = key\n",
    "        self.val = val\n",
    "        \n",
    "        self.left = None\n",
    "        self.right = None"
   ]
  },
  {
   "cell_type": "code",
   "execution_count": 334,
   "metadata": {},
   "outputs": [],
   "source": [
    "class DTree(SimplePredictor):\n",
    "    def __init__(self):\n",
    "        self.disapprove = 0\n",
    "        super().__init__()\n",
    "\n",
    "    def readTree(self, reader, path):\n",
    "        depth_dict = {}\n",
    "        lines = [] \n",
    "        for row in reader.lines(path):\n",
    "            parts = row.split(\"--- \")\n",
    "            depth = parts[0].count(\"|\")\n",
    "            content = parts[1]\n",
    "            lines.append((depth, content))\n",
    "\n",
    "        for depth, line in lines:\n",
    "            if \"<=\" in line:\n",
    "                content_split = line.split(\" <= \")\n",
    "                \n",
    "            if \"class:\" in line:\n",
    "                content_split = line.split(\": \") \n",
    "                \n",
    "            if not \">\" in line:\n",
    "                if depth == 1:\n",
    "                    root = Node(content_split[0], float(content_split[1].strip()))\n",
    "                    depth_dict[depth] = root\n",
    "\n",
    "                elif depth_dict[depth-1].left == None:\n",
    "                    depth_dict[depth-1].left = Node(content_split[0], float(content_split[1].strip()))\n",
    "                    depth_dict[depth] = depth_dict[depth-1].left\n",
    "                else:\n",
    "                    depth_dict[depth-1].right = Node(content_split[0], float(content_split[1].strip()))\n",
    "                    depth_dict[depth] = depth_dict[depth-1].right\n",
    "                    \n",
    "        self.tree = root\n",
    "        #return root\n",
    "    \n",
    "    def predict(self,data):\n",
    "        return self.call_predict(data, self.tree)\n",
    "        \n",
    "    def call_predict(self, data, node):\n",
    "        if node.val == 0:\n",
    "            self.disapprove += 1\n",
    "            return False\n",
    "        if node.val == 1:\n",
    "            self.getApproved()\n",
    "            return True\n",
    "        \n",
    "        if data[node.key] <= node.val:\n",
    "            if node.left != None:\n",
    "                return self.call_predict(data,node.left)\n",
    "        else:\n",
    "            if node.right != None:\n",
    "                return self.call_predict(data, node.right)\n",
    "            \n",
    "    def getDisapproved(self):\n",
    "        return self.disapprove"
   ]
  },
  {
   "cell_type": "code",
   "execution_count": 328,
   "metadata": {},
   "outputs": [],
   "source": [
    "tree_reader = ZippedCSVReader('trees.zip')\n",
    "dtree = DTree()\n",
    "dtree.readTree(tree_reader, \"bad.txt\")"
   ]
  },
  {
   "cell_type": "code",
   "execution_count": 331,
   "metadata": {},
   "outputs": [
    {
     "data": {
      "text/plain": [
       "False"
      ]
     },
     "execution_count": 331,
     "metadata": {},
     "output_type": "execute_result"
    }
   ],
   "source": [
    "loan = Loan(133, 'Home purchase', 'White', 0, 'approve')\n",
    "dtree.predict(loan)"
   ]
  },
  {
   "cell_type": "code",
   "execution_count": 332,
   "metadata": {},
   "outputs": [
    {
     "data": {
      "text/plain": [
       "2"
      ]
     },
     "execution_count": 332,
     "metadata": {},
     "output_type": "execute_result"
    }
   ],
   "source": [
    "dtree.getDisapproved()"
   ]
  },
  {
   "cell_type": "code",
   "execution_count": 307,
   "metadata": {},
   "outputs": [],
   "source": [
    "class RandomForest(SimplePredictor):\n",
    "    def __init__(self, trees):\n",
    "        self.trees = trees\n",
    "\n",
    "    def predict(self, loan):\n",
    "        ones = 0\n",
    "        count = 0\n",
    "        for i in self.trees:\n",
    "            count += 1\n",
    "            if i.predict(loan)==True:\n",
    "                ones += 1\n",
    "        return ones>=(count-ones)"
   ]
  },
  {
   "cell_type": "code",
   "execution_count": null,
   "metadata": {},
   "outputs": [],
   "source": []
  },
  {
   "cell_type": "code",
   "execution_count": 314,
   "metadata": {},
   "outputs": [],
   "source": [
    "def bias_test(bank, predictor, race_override):\n",
    "    total = 0\n",
    "    diff_result = 0\n",
    "    \n",
    "    for loan in bank.loan_iter():\n",
    "        total += 1\n",
    "        result = predictor.predict(loan)\n",
    "        loan.set_race(race_override)\n",
    "        \n",
    "        new_result = predictor.predict(loan)\n",
    "        #print(result,new_result)\n",
    "        if result != new_result:\n",
    "            diff_result += 1\n",
    "\n",
    "    return diff_result/total"
   ]
  },
  {
   "cell_type": "code",
   "execution_count": 312,
   "metadata": {},
   "outputs": [
    {
     "data": {
      "text/plain": [
       "<__main__.Node at 0x7f7016d8de80>"
      ]
     },
     "execution_count": 312,
     "metadata": {},
     "output_type": "execute_result"
    }
   ],
   "source": [
    "reader = ZippedCSVReader(\"loans.zip\")\n",
    "b = Bank(None, reader)\n",
    "\n",
    "tree_reader = ZippedCSVReader(\"trees.zip\")\n",
    "dtree = DTree()\n",
    "dtree.readTree(tree_reader, \"bad.txt\")"
   ]
  },
  {
   "cell_type": "code",
   "execution_count": 313,
   "metadata": {},
   "outputs": [
    {
     "name": "stdout",
     "output_type": "stream",
     "text": [
      "0.41380275525835\n"
     ]
    }
   ],
   "source": [
    "bias_percent = bias_test(b, dtree, \"Black or African American\")\n",
    "print(bias_percent)"
   ]
  },
  {
   "cell_type": "code",
   "execution_count": null,
   "metadata": {},
   "outputs": [],
   "source": [
    "dtree.predict(Loan(133, 'Home purchase', 'White', 45, 'approve'))"
   ]
  },
  {
   "cell_type": "code",
   "execution_count": 217,
   "metadata": {},
   "outputs": [
    {
     "name": "stdout",
     "output_type": "stream",
     "text": [
      "Loan(80, 'Refinancing', 'Black or African American', 0, 'deny')\n",
      "Loan(165, 'Refinancing', 'Information not provided by applicant in mail, Internet, or telephone application', 33, 'approve')\n",
      "Loan(133, 'Home purchase', 'White', 45, 'approve')\n",
      "Loan(1112, 'Home purchase', 'White', 388, 'approve')\n",
      "Loan(90, 'Refinancing', 'White', 29, 'deny')\n",
      "Loan(385, 'Home purchase', 'White', 227, 'approve')\n",
      "Loan(8, 'Home purchase', 'White', 44, 'deny')\n",
      "Loan(216, 'Home purchase', 'White', 82, 'approve')\n",
      "Loan(582, 'Home purchase', 'White', 149, 'approve')\n",
      "Loan(424, 'Home purchase', 'White', 212, 'approve')\n",
      "Loan(58, 'Home purchase', 'White', 125, 'approve')\n",
      "Loan(87, 'Refinancing', 'Information not provided by applicant in mail, Internet, or telephone application', 0, 'approve')\n",
      "Loan(80, 'Refinancing', 'Black or African American', 160, 'deny')\n",
      "Loan(64, 'Refinancing', 'White', 73, 'deny')\n",
      "Loan(101, 'Home purchase', 'Black or African American', 21, 'approve')\n",
      "Loan(125, 'Refinancing', 'White', 188, 'approve')\n",
      "Loan(119, 'Home purchase', 'White', 75, 'approve')\n",
      "Loan(246, 'Refinancing', 'Information not provided by applicant in mail, Internet, or telephone application', 111, 'approve')\n",
      "Loan(100, 'Home purchase', 'Information not provided by applicant in mail, Internet, or telephone application', 17, 'deny')\n",
      "Loan(114, 'Home purchase', 'White', 29, 'deny')\n",
      "Loan(89, 'Refinancing', 'White', 96, 'deny')\n",
      "Loan(94, 'Refinancing', 'White', 31, 'approve')\n",
      "Loan(17, 'Home purchase', 'White', 94, 'approve')\n",
      "Loan(82, 'Home purchase', 'White', 74, 'approve')\n",
      "Loan(99, 'Home purchase', 'Asian', 86, 'deny')\n"
     ]
    }
   ],
   "source": [
    "for loan in b.loan_iter():\n",
    "    print(dtree.predict(loan))"
   ]
  },
  {
   "cell_type": "code",
   "execution_count": null,
   "metadata": {},
   "outputs": [],
   "source": []
  },
  {
   "cell_type": "code",
   "execution_count": null,
   "metadata": {},
   "outputs": [],
   "source": []
  }
 ],
 "metadata": {
  "kernelspec": {
   "display_name": "Python 3",
   "language": "python",
   "name": "python3"
  },
  "language_info": {
   "codemirror_mode": {
    "name": "ipython",
    "version": 3
   },
   "file_extension": ".py",
   "mimetype": "text/x-python",
   "name": "python",
   "nbconvert_exporter": "python",
   "pygments_lexer": "ipython3",
   "version": "3.6.9"
  }
 },
 "nbformat": 4,
 "nbformat_minor": 4
}
