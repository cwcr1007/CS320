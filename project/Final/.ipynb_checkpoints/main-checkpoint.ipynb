{
 "cells": [
  {
   "cell_type": "code",
   "execution_count": 1,
   "metadata": {},
   "outputs": [],
   "source": [
    "import pandas as pd\n",
    "import numpy as np\n",
    "import matplotlib.pyplot as plt\n",
    "from sklearn.linear_model import LinearRegression\n",
    "from sklearn.preprocessing import PolynomialFeatures\n",
    "from sklearn.decomposition import PCA\n",
    "from sklearn.impute import SimpleImputer\n",
    "from sklearn.preprocessing import StandardScaler\n",
    "from sklearn.model_selection import train_test_split\n",
    "from sklearn.metrics import mean_squared_error"
   ]
  },
  {
   "cell_type": "code",
   "execution_count": 2,
   "metadata": {},
   "outputs": [
    {
     "name": "stdout",
     "output_type": "stream",
     "text": [
      "(2930, 82)\n",
      "(2930, 6)\n"
     ]
    },
    {
     "data": {
      "text/html": [
       "<div>\n",
       "<style scoped>\n",
       "    .dataframe tbody tr th:only-of-type {\n",
       "        vertical-align: middle;\n",
       "    }\n",
       "\n",
       "    .dataframe tbody tr th {\n",
       "        vertical-align: top;\n",
       "    }\n",
       "\n",
       "    .dataframe thead th {\n",
       "        text-align: right;\n",
       "    }\n",
       "</style>\n",
       "<table border=\"1\" class=\"dataframe\">\n",
       "  <thead>\n",
       "    <tr style=\"text-align: right;\">\n",
       "      <th></th>\n",
       "      <th>Overall Qual</th>\n",
       "      <th>Gr Liv Area</th>\n",
       "      <th>Garage Area</th>\n",
       "      <th>Year Built</th>\n",
       "      <th>Neighborhood</th>\n",
       "      <th>SalePrice</th>\n",
       "    </tr>\n",
       "  </thead>\n",
       "  <tbody>\n",
       "    <tr>\n",
       "      <th>0</th>\n",
       "      <td>6</td>\n",
       "      <td>1656</td>\n",
       "      <td>528.0</td>\n",
       "      <td>1960</td>\n",
       "      <td>NAmes</td>\n",
       "      <td>215000</td>\n",
       "    </tr>\n",
       "    <tr>\n",
       "      <th>1</th>\n",
       "      <td>5</td>\n",
       "      <td>896</td>\n",
       "      <td>730.0</td>\n",
       "      <td>1961</td>\n",
       "      <td>NAmes</td>\n",
       "      <td>105000</td>\n",
       "    </tr>\n",
       "    <tr>\n",
       "      <th>2</th>\n",
       "      <td>6</td>\n",
       "      <td>1329</td>\n",
       "      <td>312.0</td>\n",
       "      <td>1958</td>\n",
       "      <td>NAmes</td>\n",
       "      <td>172000</td>\n",
       "    </tr>\n",
       "    <tr>\n",
       "      <th>3</th>\n",
       "      <td>7</td>\n",
       "      <td>2110</td>\n",
       "      <td>522.0</td>\n",
       "      <td>1968</td>\n",
       "      <td>NAmes</td>\n",
       "      <td>244000</td>\n",
       "    </tr>\n",
       "    <tr>\n",
       "      <th>4</th>\n",
       "      <td>5</td>\n",
       "      <td>1629</td>\n",
       "      <td>482.0</td>\n",
       "      <td>1997</td>\n",
       "      <td>Gilbert</td>\n",
       "      <td>189900</td>\n",
       "    </tr>\n",
       "  </tbody>\n",
       "</table>\n",
       "</div>"
      ],
      "text/plain": [
       "   Overall Qual  Gr Liv Area  Garage Area  Year Built Neighborhood  SalePrice\n",
       "0             6         1656        528.0        1960        NAmes     215000\n",
       "1             5          896        730.0        1961        NAmes     105000\n",
       "2             6         1329        312.0        1958        NAmes     172000\n",
       "3             7         2110        522.0        1968        NAmes     244000\n",
       "4             5         1629        482.0        1997      Gilbert     189900"
      ]
     },
     "execution_count": 2,
     "metadata": {},
     "output_type": "execute_result"
    }
   ],
   "source": [
    "df = pd.read_csv('AmesHousing.csv')\n",
    "# sum_col = df.isnull().sum()\n",
    "# print(sum_col.loc[sum_col.values > 400])\n",
    "print(df.shape)\n",
    "df = df[[\"Overall Qual\", \"Gr Liv Area\", \"Garage Area\", \"Year Built\", \"Neighborhood\", \"SalePrice\"]].copy()\n",
    "print(df.shape)\n",
    "df.head()"
   ]
  },
  {
   "cell_type": "code",
   "execution_count": 3,
   "metadata": {},
   "outputs": [
    {
     "name": "stdout",
     "output_type": "stream",
     "text": [
      "(2930, 32)\n"
     ]
    },
    {
     "data": {
      "text/html": [
       "<div>\n",
       "<style scoped>\n",
       "    .dataframe tbody tr th:only-of-type {\n",
       "        vertical-align: middle;\n",
       "    }\n",
       "\n",
       "    .dataframe tbody tr th {\n",
       "        vertical-align: top;\n",
       "    }\n",
       "\n",
       "    .dataframe thead th {\n",
       "        text-align: right;\n",
       "    }\n",
       "</style>\n",
       "<table border=\"1\" class=\"dataframe\">\n",
       "  <thead>\n",
       "    <tr style=\"text-align: right;\">\n",
       "      <th></th>\n",
       "      <th>Overall Qual</th>\n",
       "      <th>Gr Liv Area</th>\n",
       "      <th>Garage Area</th>\n",
       "      <th>Year Built</th>\n",
       "      <th>SalePrice</th>\n",
       "      <th>Neighborhood_Blueste</th>\n",
       "      <th>Neighborhood_BrDale</th>\n",
       "      <th>Neighborhood_BrkSide</th>\n",
       "      <th>Neighborhood_ClearCr</th>\n",
       "      <th>Neighborhood_CollgCr</th>\n",
       "      <th>...</th>\n",
       "      <th>Neighborhood_NoRidge</th>\n",
       "      <th>Neighborhood_NridgHt</th>\n",
       "      <th>Neighborhood_OldTown</th>\n",
       "      <th>Neighborhood_SWISU</th>\n",
       "      <th>Neighborhood_Sawyer</th>\n",
       "      <th>Neighborhood_SawyerW</th>\n",
       "      <th>Neighborhood_Somerst</th>\n",
       "      <th>Neighborhood_StoneBr</th>\n",
       "      <th>Neighborhood_Timber</th>\n",
       "      <th>Neighborhood_Veenker</th>\n",
       "    </tr>\n",
       "  </thead>\n",
       "  <tbody>\n",
       "    <tr>\n",
       "      <th>0</th>\n",
       "      <td>6</td>\n",
       "      <td>1656</td>\n",
       "      <td>528.0</td>\n",
       "      <td>1960</td>\n",
       "      <td>215000</td>\n",
       "      <td>0</td>\n",
       "      <td>0</td>\n",
       "      <td>0</td>\n",
       "      <td>0</td>\n",
       "      <td>0</td>\n",
       "      <td>...</td>\n",
       "      <td>0</td>\n",
       "      <td>0</td>\n",
       "      <td>0</td>\n",
       "      <td>0</td>\n",
       "      <td>0</td>\n",
       "      <td>0</td>\n",
       "      <td>0</td>\n",
       "      <td>0</td>\n",
       "      <td>0</td>\n",
       "      <td>0</td>\n",
       "    </tr>\n",
       "    <tr>\n",
       "      <th>1</th>\n",
       "      <td>5</td>\n",
       "      <td>896</td>\n",
       "      <td>730.0</td>\n",
       "      <td>1961</td>\n",
       "      <td>105000</td>\n",
       "      <td>0</td>\n",
       "      <td>0</td>\n",
       "      <td>0</td>\n",
       "      <td>0</td>\n",
       "      <td>0</td>\n",
       "      <td>...</td>\n",
       "      <td>0</td>\n",
       "      <td>0</td>\n",
       "      <td>0</td>\n",
       "      <td>0</td>\n",
       "      <td>0</td>\n",
       "      <td>0</td>\n",
       "      <td>0</td>\n",
       "      <td>0</td>\n",
       "      <td>0</td>\n",
       "      <td>0</td>\n",
       "    </tr>\n",
       "    <tr>\n",
       "      <th>2</th>\n",
       "      <td>6</td>\n",
       "      <td>1329</td>\n",
       "      <td>312.0</td>\n",
       "      <td>1958</td>\n",
       "      <td>172000</td>\n",
       "      <td>0</td>\n",
       "      <td>0</td>\n",
       "      <td>0</td>\n",
       "      <td>0</td>\n",
       "      <td>0</td>\n",
       "      <td>...</td>\n",
       "      <td>0</td>\n",
       "      <td>0</td>\n",
       "      <td>0</td>\n",
       "      <td>0</td>\n",
       "      <td>0</td>\n",
       "      <td>0</td>\n",
       "      <td>0</td>\n",
       "      <td>0</td>\n",
       "      <td>0</td>\n",
       "      <td>0</td>\n",
       "    </tr>\n",
       "    <tr>\n",
       "      <th>3</th>\n",
       "      <td>7</td>\n",
       "      <td>2110</td>\n",
       "      <td>522.0</td>\n",
       "      <td>1968</td>\n",
       "      <td>244000</td>\n",
       "      <td>0</td>\n",
       "      <td>0</td>\n",
       "      <td>0</td>\n",
       "      <td>0</td>\n",
       "      <td>0</td>\n",
       "      <td>...</td>\n",
       "      <td>0</td>\n",
       "      <td>0</td>\n",
       "      <td>0</td>\n",
       "      <td>0</td>\n",
       "      <td>0</td>\n",
       "      <td>0</td>\n",
       "      <td>0</td>\n",
       "      <td>0</td>\n",
       "      <td>0</td>\n",
       "      <td>0</td>\n",
       "    </tr>\n",
       "    <tr>\n",
       "      <th>4</th>\n",
       "      <td>5</td>\n",
       "      <td>1629</td>\n",
       "      <td>482.0</td>\n",
       "      <td>1997</td>\n",
       "      <td>189900</td>\n",
       "      <td>0</td>\n",
       "      <td>0</td>\n",
       "      <td>0</td>\n",
       "      <td>0</td>\n",
       "      <td>0</td>\n",
       "      <td>...</td>\n",
       "      <td>0</td>\n",
       "      <td>0</td>\n",
       "      <td>0</td>\n",
       "      <td>0</td>\n",
       "      <td>0</td>\n",
       "      <td>0</td>\n",
       "      <td>0</td>\n",
       "      <td>0</td>\n",
       "      <td>0</td>\n",
       "      <td>0</td>\n",
       "    </tr>\n",
       "  </tbody>\n",
       "</table>\n",
       "<p>5 rows × 32 columns</p>\n",
       "</div>"
      ],
      "text/plain": [
       "   Overall Qual  Gr Liv Area  Garage Area  Year Built  SalePrice  \\\n",
       "0             6         1656        528.0        1960     215000   \n",
       "1             5          896        730.0        1961     105000   \n",
       "2             6         1329        312.0        1958     172000   \n",
       "3             7         2110        522.0        1968     244000   \n",
       "4             5         1629        482.0        1997     189900   \n",
       "\n",
       "   Neighborhood_Blueste  Neighborhood_BrDale  Neighborhood_BrkSide  \\\n",
       "0                     0                    0                     0   \n",
       "1                     0                    0                     0   \n",
       "2                     0                    0                     0   \n",
       "3                     0                    0                     0   \n",
       "4                     0                    0                     0   \n",
       "\n",
       "   Neighborhood_ClearCr  Neighborhood_CollgCr  ...  Neighborhood_NoRidge  \\\n",
       "0                     0                     0  ...                     0   \n",
       "1                     0                     0  ...                     0   \n",
       "2                     0                     0  ...                     0   \n",
       "3                     0                     0  ...                     0   \n",
       "4                     0                     0  ...                     0   \n",
       "\n",
       "   Neighborhood_NridgHt  Neighborhood_OldTown  Neighborhood_SWISU  \\\n",
       "0                     0                     0                   0   \n",
       "1                     0                     0                   0   \n",
       "2                     0                     0                   0   \n",
       "3                     0                     0                   0   \n",
       "4                     0                     0                   0   \n",
       "\n",
       "   Neighborhood_Sawyer  Neighborhood_SawyerW  Neighborhood_Somerst  \\\n",
       "0                    0                     0                     0   \n",
       "1                    0                     0                     0   \n",
       "2                    0                     0                     0   \n",
       "3                    0                     0                     0   \n",
       "4                    0                     0                     0   \n",
       "\n",
       "   Neighborhood_StoneBr  Neighborhood_Timber  Neighborhood_Veenker  \n",
       "0                     0                    0                     0  \n",
       "1                     0                    0                     0  \n",
       "2                     0                    0                     0  \n",
       "3                     0                    0                     0  \n",
       "4                     0                    0                     0  \n",
       "\n",
       "[5 rows x 32 columns]"
      ]
     },
     "execution_count": 3,
     "metadata": {},
     "output_type": "execute_result"
    }
   ],
   "source": [
    "# One-hot encoding for Categorical(Nominal) Features\n",
    "df = pd.get_dummies(df, drop_first=True)\n",
    "print(df.shape)\n",
    "df.head()"
   ]
  },
  {
   "cell_type": "code",
   "execution_count": 4,
   "metadata": {},
   "outputs": [],
   "source": [
    "# missing value\n",
    "# imputer = SimpleImputer(missing_values=np.nan, strategy=\"mean\")\n",
    "# df = pd.DataFrame(imputer.fit_transform(df.values))"
   ]
  },
  {
   "cell_type": "code",
   "execution_count": 5,
   "metadata": {},
   "outputs": [],
   "source": [
    "# Dealing with missing data\n",
    "df = df.fillna(value=df[\"Garage Area\"].mean())"
   ]
  },
  {
   "cell_type": "code",
   "execution_count": 79,
   "metadata": {},
   "outputs": [
    {
     "data": {
      "image/png": "[encoded data removed]",
      "text/plain": [
       "<Figure size 432x288 with 2 Axes>"
      ]
     },
     "metadata": {
      "needs_background": "light"
     },
     "output_type": "display_data"
    }
   ],
   "source": [
    "plt.rcParams.update({'font.size': 12})\n",
    "fig,ax = plt.subplots()\n",
    "df.plot.scatter(x=\"Gr Liv Area\",y=\"SalePrice\",c=\"Overall Qual\", ax=ax)\n",
    "ax.set_title(\"Figure 1: Ground Living Area and Overall Quality on Sale Price\", pad=20)\n",
    "ax.set_xlabel(\"Ground Living Area\")\n",
    "ax.set_ylabel(\"Sale price\")\n",
    "ax.spines['right'].set_visible(False)\n",
    "ax.spines['top'].set_visible(False)"
   ]
  },
  {
   "cell_type": "code",
   "execution_count": 80,
   "metadata": {},
   "outputs": [
    {
     "data": {
      "text/plain": [
       "{0: 0.0,\n",
       " 1: 0.888427416658098,\n",
       " 2: 0.9977275192218336,\n",
       " 3: 0.9999944457809803,\n",
       " 4: 0.9999972554546563,\n",
       " 5: 0.999997671236775,\n",
       " 6: 0.9999979537568963,\n",
       " 7: 0.9999981774907089,\n",
       " 8: 0.9999983844408458}"
      ]
     },
     "execution_count": 80,
     "metadata": {},
     "output_type": "execute_result"
    }
   ],
   "source": [
    "def cal_pca(n):\n",
    "    pca = PCA(n_components = n)\n",
    "    pca.fit(X_train) # components (key for interpreting the new data)\n",
    "    key_df = pd.DataFrame(pca.components_)\n",
    "    return pca.explained_variance_ratio_.sum()\n",
    "\n",
    "lst = {}\n",
    "for i in range(9):\n",
    "    lst[i] = cal_pca(i)\n",
    "    \n",
    "lst"
   ]
  },
  {
   "cell_type": "code",
   "execution_count": 8,
   "metadata": {},
   "outputs": [
    {
     "data": {
      "text/plain": [
       "(2930, 32)"
      ]
     },
     "execution_count": 8,
     "metadata": {},
     "output_type": "execute_result"
    }
   ],
   "source": [
    "scaler = StandardScaler()\n",
    "scaler.fit(df.values)\n",
    "df_std = scaler.transform(df)\n",
    "df_std.shape"
   ]
  },
  {
   "cell_type": "code",
   "execution_count": 9,
   "metadata": {},
   "outputs": [
    {
     "data": {
      "text/plain": [
       "{0: 0.0,\n",
       " 1: 0.1260200473036821,\n",
       " 2: 0.17227658462502293,\n",
       " 3: 0.20822360464730127,\n",
       " 4: 0.2397386908092176,\n",
       " 5: 0.27513131902075816,\n",
       " 6: 0.30772514642520166,\n",
       " 7: 0.3410401219347561,\n",
       " 8: 0.3755297422195842}"
      ]
     },
     "execution_count": 9,
     "metadata": {},
     "output_type": "execute_result"
    }
   ],
   "source": [
    "def pca_ratio(x):\n",
    "    pca_std = PCA(n_components = x)\n",
    "    pca_std.fit(df_std) # components (key for interpreting the new data)\n",
    "    key_df_std = pd.DataFrame(pca_std.components_)\n",
    "    return pca_std.explained_variance_ratio_.sum()\n",
    "\n",
    "lst_std = {}\n",
    "for i in range(9):\n",
    "    lst_std[i] = pca_ratio(i)\n",
    "    \n",
    "lst_std"
   ]
  },
  {
   "cell_type": "code",
   "execution_count": 81,
   "metadata": {},
   "outputs": [
    {
     "data": {
      "image/png": "[encoded data removed]",
      "text/plain": [
       "<Figure size 432x288 with 1 Axes>"
      ]
     },
     "metadata": {
      "needs_background": "light"
     },
     "output_type": "display_data"
    }
   ],
   "source": [
    "plt.rcParams.update({'font.size': 12})\n",
    "fig,ax = plt.subplots()\n",
    "pd.Series(lst).plot.line(c=\"blue\", ax=ax)\n",
    "pd.Series(lst_std).plot.line(c=\"orange\", ax=ax)\n",
    "ax.set_title(\"Figure 2: Principle Components of Sale Price\", pad=20)\n",
    "ax.set_xlabel(\"Number of Components\")\n",
    "ax.set_ylabel(\"Explained Variance\")\n",
    "ax.legend([\"not scaled\",\"scaled\"])\n",
    "ax.spines['right'].set_visible(False)\n",
    "ax.spines['top'].set_visible(False)"
   ]
  },
  {
   "cell_type": "code",
   "execution_count": 11,
   "metadata": {},
   "outputs": [
    {
     "name": "stdout",
     "output_type": "stream",
     "text": [
      "Train/Test sizes: 2197 733\n"
     ]
    }
   ],
   "source": [
    "y = df['SalePrice']\n",
    "X = df.drop([\"SalePrice\"], axis=1)\n",
    "\n",
    "X_train, X_test, y_train, y_test = \\\n",
    "    train_test_split(X, y, test_size=0.25, random_state=1, shuffle = 'True')\n",
    "\n",
    "print('Train/Test sizes:', y_train.shape[0], y_test.shape[0])"
   ]
  },
  {
   "cell_type": "code",
   "execution_count": 12,
   "metadata": {},
   "outputs": [
    {
     "data": {
      "text/plain": [
       "(array([ 1.91161946e+04,  5.04195857e+01,  4.41002027e+01,  3.06887151e+02,\n",
       "        -1.33914967e+04, -2.99668724e+04,  4.80233741e+03,  3.19147219e+04,\n",
       "         8.30844548e+03,  3.33126505e+04, -1.28805649e+03,  7.04526360e+00,\n",
       "        -1.17144415e+03,  5.52955453e+04, -3.83854031e+03, -2.95821947e+04,\n",
       "        -1.14203536e+04,  4.88957935e+03,  5.31316057e+03, -1.87051869e+04,\n",
       "        -6.92871040e+02,  6.50596382e+04,  6.52615244e+04, -7.10931665e+03,\n",
       "        -7.02187358e+03,  7.65148065e+03, -2.98983232e+03,  1.23599750e+04,\n",
       "         8.02561576e+04,  2.80264378e+04,  3.87650345e+04]),\n",
       " -647639.4172441302)"
      ]
     },
     "execution_count": 12,
     "metadata": {},
     "output_type": "execute_result"
    }
   ],
   "source": [
    "lr = LinearRegression()\n",
    "lr.fit(X_train, y_train)\n",
    "slope = lr.coef_\n",
    "intercept = lr.intercept_\n",
    "slope, intercept"
   ]
  },
  {
   "cell_type": "code",
   "execution_count": 13,
   "metadata": {},
   "outputs": [
    {
     "data": {
      "text/plain": [
       "0.18540974691453826"
      ]
     },
     "execution_count": 13,
     "metadata": {},
     "output_type": "execute_result"
    }
   ],
   "source": [
    "pre_val = lr.predict(X_test)\n",
    "rmse = np.sqrt(mean_squared_error(np.log(y_test), np.log(pre_val)))\n",
    "rmse"
   ]
  },
  {
   "cell_type": "code",
   "execution_count": null,
   "metadata": {},
   "outputs": [],
   "source": []
  },
  {
   "cell_type": "code",
   "execution_count": 33,
   "metadata": {},
   "outputs": [],
   "source": [
    "poly = PolynomialFeatures(2, include_bias=False) # adding bias twice in fitting\n",
    "arr = poly.fit_transform(X_train)\n",
    "poly_df = pd.DataFrame(arr)"
   ]
  },
  {
   "cell_type": "code",
   "execution_count": 34,
   "metadata": {},
   "outputs": [
    {
     "data": {
      "text/plain": [
       "LinearRegression()"
      ]
     },
     "execution_count": 34,
     "metadata": {},
     "output_type": "execute_result"
    }
   ],
   "source": [
    "lr = LinearRegression()\n",
    "lr.fit(poly_df, y_train)"
   ]
  },
  {
   "cell_type": "code",
   "execution_count": 31,
   "metadata": {},
   "outputs": [
    {
     "data": {
      "text/plain": [
       "0.1718017447117127"
      ]
     },
     "execution_count": 31,
     "metadata": {},
     "output_type": "execute_result"
    }
   ],
   "source": [
    "pre_val = lr.predict(poly.fit_transform(X_test))\n",
    "rmse = np.sqrt(mean_squared_error(np.log(y_test), np.log(pre_val)))\n",
    "rmse"
   ]
  },
  {
   "cell_type": "code",
   "execution_count": 69,
   "metadata": {},
   "outputs": [],
   "source": [
    "poly = PolynomialFeatures(2, include_bias=False) # adding bias twice in fitting\n",
    "arr = poly.fit_transform(X_train[[\"Gr Liv Area\"]])\n",
    "poly_df = pd.DataFrame(arr)\n",
    "\n",
    "lr = LinearRegression()\n",
    "lr.fit(poly_df, y_train)\n",
    "\n",
    "fit_x = np.arange(0, 6000, 500).reshape(-1,1)\n",
    "fit_y = lr.predict(poly.fit_transform(fit_x))"
   ]
  },
  {
   "cell_type": "code",
   "execution_count": 70,
   "metadata": {},
   "outputs": [
    {
     "data": {
      "text/plain": [
       "(array([ 1.61987503e+02, -1.37313899e-02]), -27063.210345579835)"
      ]
     },
     "execution_count": 70,
     "metadata": {},
     "output_type": "execute_result"
    }
   ],
   "source": [
    "slope = lr.coef_\n",
    "intercept = lr.intercept_\n",
    "slope, intercept"
   ]
  },
  {
   "cell_type": "code",
   "execution_count": null,
   "metadata": {},
   "outputs": [],
   "source": []
  },
  {
   "cell_type": "code",
   "execution_count": 82,
   "metadata": {},
   "outputs": [
    {
     "data": {
      "image/png": "[encoded data removed]",
      "text/plain": [
       "<Figure size 432x288 with 2 Axes>"
      ]
     },
     "metadata": {
      "needs_background": "light"
     },
     "output_type": "display_data"
    }
   ],
   "source": [
    "plt.rcParams.update({'font.size': 12})\n",
    "fig,ax = plt.subplots()\n",
    "df.plot.scatter(x=\"Gr Liv Area\",y=\"SalePrice\",c=\"Overall Qual\", ax=ax)\n",
    "ax.set_title(\"Figure 3: Ground Living and Sale Price with fitted line\", pad=20)\n",
    "ax.plot(fit_x, fit_y, \"red\")\n",
    "ax.spines['right'].set_visible(False)\n",
    "ax.spines['top'].set_visible(False)"
   ]
  },
  {
   "cell_type": "code",
   "execution_count": null,
   "metadata": {},
   "outputs": [],
   "source": []
  }
 ],
 "metadata": {
  "kernelspec": {
   "display_name": "Python 3",
   "language": "python",
   "name": "python3"
  },
  "language_info": {
   "codemirror_mode": {
    "name": "ipython",
    "version": 3
   },
   "file_extension": ".py",
   "mimetype": "text/x-python",
   "name": "python",
   "nbconvert_exporter": "python",
   "pygments_lexer": "ipython3",
   "version": "3.6.9"
  }
 },
 "nbformat": 4,
 "nbformat_minor": 4
}
