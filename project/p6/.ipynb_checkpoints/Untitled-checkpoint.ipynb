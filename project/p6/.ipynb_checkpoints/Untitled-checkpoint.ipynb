{
 "cells": [
  {
   "cell_type": "code",
   "execution_count": 1,
   "metadata": {},
   "outputs": [],
   "source": [
    "import land\n",
    "import matplotlib.pyplot as plt\n",
    "from matplotlib.colors import ListedColormap"
   ]
  },
  {
   "cell_type": "code",
   "execution_count": 2,
   "metadata": {},
   "outputs": [
    {
     "name": "stdout",
     "output_type": "stream",
     "text": [
      "            11        21         22        23        24        31        41  \\\n",
      "year                                                                          \n",
      "2001  6.789097  6.695625  10.363611  4.187708  1.535694  0.302361  5.878611   \n",
      "2004  6.815278  6.695625  10.363611  4.187708  1.535694  0.307639  5.896528   \n",
      "2006  6.743264  7.459306  11.201458  5.226042  1.768958  0.314653  5.705069   \n",
      "2008  6.998611  7.459306  11.201458  5.226042  1.768958  0.306528  5.724375   \n",
      "2011  6.866458  7.830625  11.456597  5.532986  1.932847  0.292708  5.596667   \n",
      "2013  6.760694  7.830625  11.456597  5.532986  1.932847  0.296667  5.601250   \n",
      "2016  6.764931  7.829653  11.714792  5.895972  2.054028  0.294444  5.514722   \n",
      "\n",
      "            42        43        52        71         81         82        90  \\\n",
      "year                                                                           \n",
      "2001  0.193333  2.776597  0.167083  0.092847  13.546597  41.020972  1.555347   \n",
      "2004  0.195694  2.782361  0.169097  0.147917  13.725486  40.724236  1.555069   \n",
      "2006  0.189861  2.769306  0.187431  0.092569  12.452986  39.455972  1.532431   \n",
      "2008  0.188472  2.774028  0.153403  0.092222  12.466736  39.397222  1.511319   \n",
      "2011  0.185625  2.765347  0.166806  0.091667  11.948889  39.032083  1.515556   \n",
      "2013  0.187361  2.770208  0.146528  0.106736  11.906597  39.098264  1.527153   \n",
      "2016  0.182222  2.775069  0.177778  0.131597  11.703056  38.579653  1.519375   \n",
      "\n",
      "            95  \n",
      "year            \n",
      "2001  4.894514  \n",
      "2004  4.898056  \n",
      "2006  4.900694  \n",
      "2008  4.731319  \n",
      "2011  4.785139  \n",
      "2013  4.845486  \n",
      "2016  4.862708  \n"
     ]
    },
    {
     "ename": "NameError",
     "evalue": "name 'color' is not defined",
     "output_type": "error",
     "traceback": [
      "\u001b[0;31m---------------------------------------------------------------------------\u001b[0m",
      "\u001b[0;31mNameError\u001b[0m                                 Traceback (most recent call last)",
      "\u001b[0;32m<ipython-input-2-ed461f24ae83>\u001b[0m in \u001b[0;36m<module>\u001b[0;34m\u001b[0m\n\u001b[1;32m      1\u001b[0m \u001b[0mc\u001b[0m \u001b[0;34m=\u001b[0m \u001b[0mland\u001b[0m\u001b[0;34m.\u001b[0m\u001b[0mopen\u001b[0m\u001b[0;34m(\u001b[0m\u001b[0;34m\"images\"\u001b[0m\u001b[0;34m)\u001b[0m\u001b[0;34m\u001b[0m\u001b[0;34m\u001b[0m\u001b[0m\n\u001b[0;32m----> 2\u001b[0;31m \u001b[0mc\u001b[0m\u001b[0;34m.\u001b[0m\u001b[0mcity_plot\u001b[0m\u001b[0;34m(\u001b[0m\u001b[0;34m\"madison\"\u001b[0m\u001b[0;34m)\u001b[0m\u001b[0;34m\u001b[0m\u001b[0;34m\u001b[0m\u001b[0m\n\u001b[0m",
      "\u001b[0;32m~/project/p6/land.py\u001b[0m in \u001b[0;36mcity_plot\u001b[0;34m(self, name)\u001b[0m\n\u001b[1;32m    172\u001b[0m \u001b[0;34m\u001b[0m\u001b[0m\n\u001b[1;32m    173\u001b[0m         \u001b[0max\u001b[0m\u001b[0;34m.\u001b[0m\u001b[0mplot\u001b[0m\u001b[0;34m(\u001b[0m\u001b[0mdata\u001b[0m\u001b[0;34m)\u001b[0m\u001b[0;34m\u001b[0m\u001b[0;34m\u001b[0m\u001b[0m\n\u001b[0;32m--> 174\u001b[0;31m         \u001b[0mplt\u001b[0m\u001b[0;34m.\u001b[0m\u001b[0mlegend\u001b[0m\u001b[0;34m(\u001b[0m\u001b[0mcolor\u001b[0m \u001b[0;34m,\u001b[0m\u001b[0muse_codes\u001b[0m\u001b[0;34m)\u001b[0m\u001b[0;34m\u001b[0m\u001b[0;34m\u001b[0m\u001b[0m\n\u001b[0m\u001b[1;32m    175\u001b[0m         \u001b[0mplt\u001b[0m\u001b[0;34m.\u001b[0m\u001b[0mshow\u001b[0m\u001b[0;34m(\u001b[0m\u001b[0;34m)\u001b[0m\u001b[0;34m\u001b[0m\u001b[0;34m\u001b[0m\u001b[0m\n\u001b[1;32m    176\u001b[0m \u001b[0;34m\u001b[0m\u001b[0m\n",
      "\u001b[0;31mNameError\u001b[0m: name 'color' is not defined"
     ]
    },
    {
     "data": {
      "image/png": "[encoded data removed]",
      "text/plain": [
       "<Figure size 432x288 with 1 Axes>"
      ]
     },
     "metadata": {
      "needs_background": "light"
     },
     "output_type": "display_data"
    }
   ],
   "source": [
    "c = land.open(\"images\")\n",
    "df = c.city_plot(\"madison\")"
   ]
  },
  {
   "cell_type": "code",
   "execution_count": null,
   "metadata": {},
   "outputs": [],
   "source": [
    "c.close()"
   ]
  },
  {
   "cell_type": "code",
   "execution_count": null,
   "metadata": {},
   "outputs": [],
   "source": [
    "df"
   ]
  },
  {
   "cell_type": "code",
   "execution_count": null,
   "metadata": {},
   "outputs": [],
   "source": [
    "df.columns"
   ]
  },
  {
   "cell_type": "code",
   "execution_count": null,
   "metadata": {},
   "outputs": [],
   "source": []
  }
 ],
 "metadata": {
  "kernelspec": {
   "display_name": "Python 3",
   "language": "python",
   "name": "python3"
  },
  "language_info": {
   "codemirror_mode": {
    "name": "ipython",
    "version": 3
   },
   "file_extension": ".py",
   "mimetype": "text/x-python",
   "name": "python",
   "nbconvert_exporter": "python",
   "pygments_lexer": "ipython3",
   "version": "3.6.9"
  }
 },
 "nbformat": 4,
 "nbformat_minor": 4
}
