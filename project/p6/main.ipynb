{
 "cells": [
  {
   "cell_type": "code",
   "execution_count": 9,
   "metadata": {},
   "outputs": [
    {
     "data": {
      "text/html": [
       "<div>\n",
       "<style scoped>\n",
       "    .dataframe tbody tr th:only-of-type {\n",
       "        vertical-align: middle;\n",
       "    }\n",
       "\n",
       "    .dataframe tbody tr th {\n",
       "        vertical-align: top;\n",
       "    }\n",
       "\n",
       "    .dataframe thead th {\n",
       "        text-align: right;\n",
       "    }\n",
       "</style>\n",
       "<table border=\"1\" class=\"dataframe\">\n",
       "  <thead>\n",
       "    <tr style=\"text-align: right;\">\n",
       "      <th></th>\n",
       "      <th>type</th>\n",
       "      <th>name</th>\n",
       "      <th>tbl_name</th>\n",
       "      <th>rootpage</th>\n",
       "      <th>sql</th>\n",
       "    </tr>\n",
       "  </thead>\n",
       "  <tbody>\n",
       "    <tr>\n",
       "      <th>0</th>\n",
       "      <td>table</td>\n",
       "      <td>places</td>\n",
       "      <td>places</td>\n",
       "      <td>4</td>\n",
       "      <td>CREATE TABLE \"places\" (\\n\"place_id\" INTEGER,\\n...</td>\n",
       "    </tr>\n",
       "    <tr>\n",
       "      <th>1</th>\n",
       "      <td>table</td>\n",
       "      <td>images</td>\n",
       "      <td>images</td>\n",
       "      <td>2</td>\n",
       "      <td>CREATE TABLE \"images\" (\\n\"year\" INTEGER,\\n  \"i...</td>\n",
       "    </tr>\n",
       "  </tbody>\n",
       "</table>\n",
       "</div>"
      ],
      "text/plain": [
       "    type    name tbl_name  rootpage  \\\n",
       "0  table  places   places         4   \n",
       "1  table  images   images         2   \n",
       "\n",
       "                                                 sql  \n",
       "0  CREATE TABLE \"places\" (\\n\"place_id\" INTEGER,\\n...  \n",
       "1  CREATE TABLE \"images\" (\\n\"year\" INTEGER,\\n  \"i...  "
      ]
     },
     "execution_count": 9,
     "metadata": {},
     "output_type": "execute_result"
    }
   ],
   "source": [
    "import os\n",
    "import sqlite3\n",
    "import pandas as pd\n",
    "import zipfile\n",
    "\n",
    "\n",
    "assert os.path.exists(\"images.db\")\n",
    "c = sqlite3.connect(\"images.db\")\n",
    "\n",
    "pd.read_sql(\"SELECT * FROM sqlite_master\", c)"
   ]
  },
  {
   "cell_type": "code",
   "execution_count": 10,
   "metadata": {},
   "outputs": [],
   "source": [
    "zz = zipfile.ZipFile(\"images.zip\")"
   ]
  },
  {
   "cell_type": "code",
   "execution_count": 11,
   "metadata": {},
   "outputs": [
    {
     "data": {
      "text/html": [
       "<div>\n",
       "<style scoped>\n",
       "    .dataframe tbody tr th:only-of-type {\n",
       "        vertical-align: middle;\n",
       "    }\n",
       "\n",
       "    .dataframe tbody tr th {\n",
       "        vertical-align: top;\n",
       "    }\n",
       "\n",
       "    .dataframe thead th {\n",
       "        text-align: right;\n",
       "    }\n",
       "</style>\n",
       "<table border=\"1\" class=\"dataframe\">\n",
       "  <thead>\n",
       "    <tr style=\"text-align: right;\">\n",
       "      <th></th>\n",
       "      <th>year</th>\n",
       "      <th>image</th>\n",
       "      <th>place_id</th>\n",
       "    </tr>\n",
       "  </thead>\n",
       "  <tbody>\n",
       "    <tr>\n",
       "      <th>0</th>\n",
       "      <td>2001</td>\n",
       "      <td>area0.npy</td>\n",
       "      <td>200</td>\n",
       "    </tr>\n",
       "    <tr>\n",
       "      <th>1</th>\n",
       "      <td>2001</td>\n",
       "      <td>area1.npy</td>\n",
       "      <td>201</td>\n",
       "    </tr>\n",
       "    <tr>\n",
       "      <th>2</th>\n",
       "      <td>2001</td>\n",
       "      <td>area2.npy</td>\n",
       "      <td>202</td>\n",
       "    </tr>\n",
       "    <tr>\n",
       "      <th>3</th>\n",
       "      <td>2001</td>\n",
       "      <td>area3.npy</td>\n",
       "      <td>203</td>\n",
       "    </tr>\n",
       "    <tr>\n",
       "      <th>4</th>\n",
       "      <td>2001</td>\n",
       "      <td>area4.npy</td>\n",
       "      <td>204</td>\n",
       "    </tr>\n",
       "    <tr>\n",
       "      <th>...</th>\n",
       "      <td>...</td>\n",
       "      <td>...</td>\n",
       "      <td>...</td>\n",
       "    </tr>\n",
       "    <tr>\n",
       "      <th>165</th>\n",
       "      <td>2016</td>\n",
       "      <td>area165.npy</td>\n",
       "      <td>205</td>\n",
       "    </tr>\n",
       "    <tr>\n",
       "      <th>166</th>\n",
       "      <td>2016</td>\n",
       "      <td>area166.npy</td>\n",
       "      <td>206</td>\n",
       "    </tr>\n",
       "    <tr>\n",
       "      <th>167</th>\n",
       "      <td>2016</td>\n",
       "      <td>area167.npy</td>\n",
       "      <td>207</td>\n",
       "    </tr>\n",
       "    <tr>\n",
       "      <th>168</th>\n",
       "      <td>2016</td>\n",
       "      <td>area168.npy</td>\n",
       "      <td>208</td>\n",
       "    </tr>\n",
       "    <tr>\n",
       "      <th>169</th>\n",
       "      <td>2016</td>\n",
       "      <td>area169.npy</td>\n",
       "      <td>209</td>\n",
       "    </tr>\n",
       "  </tbody>\n",
       "</table>\n",
       "<p>170 rows × 3 columns</p>\n",
       "</div>"
      ],
      "text/plain": [
       "     year        image  place_id\n",
       "0    2001    area0.npy       200\n",
       "1    2001    area1.npy       201\n",
       "2    2001    area2.npy       202\n",
       "3    2001    area3.npy       203\n",
       "4    2001    area4.npy       204\n",
       "..    ...          ...       ...\n",
       "165  2016  area165.npy       205\n",
       "166  2016  area166.npy       206\n",
       "167  2016  area167.npy       207\n",
       "168  2016  area168.npy       208\n",
       "169  2016  area169.npy       209\n",
       "\n",
       "[170 rows x 3 columns]"
      ]
     },
     "execution_count": 11,
     "metadata": {},
     "output_type": "execute_result"
    }
   ],
   "source": [
    "pd.read_sql(\"SELECT * FROM images\", c)"
   ]
  },
  {
   "cell_type": "code",
   "execution_count": 12,
   "metadata": {},
   "outputs": [
    {
     "data": {
      "text/html": [
       "<div>\n",
       "<style scoped>\n",
       "    .dataframe tbody tr th:only-of-type {\n",
       "        vertical-align: middle;\n",
       "    }\n",
       "\n",
       "    .dataframe tbody tr th {\n",
       "        vertical-align: top;\n",
       "    }\n",
       "\n",
       "    .dataframe thead th {\n",
       "        text-align: right;\n",
       "    }\n",
       "</style>\n",
       "<table border=\"1\" class=\"dataframe\">\n",
       "  <thead>\n",
       "    <tr style=\"text-align: right;\">\n",
       "      <th></th>\n",
       "      <th>place_id</th>\n",
       "      <th>name</th>\n",
       "      <th>lat</th>\n",
       "      <th>lon</th>\n",
       "    </tr>\n",
       "  </thead>\n",
       "  <tbody>\n",
       "    <tr>\n",
       "      <th>0</th>\n",
       "      <td>100</td>\n",
       "      <td>samp0</td>\n",
       "      <td>42.821935</td>\n",
       "      <td>-88.151540</td>\n",
       "    </tr>\n",
       "    <tr>\n",
       "      <th>1</th>\n",
       "      <td>101</td>\n",
       "      <td>samp1</td>\n",
       "      <td>45.170729</td>\n",
       "      <td>-88.397469</td>\n",
       "    </tr>\n",
       "    <tr>\n",
       "      <th>2</th>\n",
       "      <td>102</td>\n",
       "      <td>samp2</td>\n",
       "      <td>44.941672</td>\n",
       "      <td>-89.897391</td>\n",
       "    </tr>\n",
       "    <tr>\n",
       "      <th>3</th>\n",
       "      <td>103</td>\n",
       "      <td>samp3</td>\n",
       "      <td>43.101989</td>\n",
       "      <td>-88.899274</td>\n",
       "    </tr>\n",
       "    <tr>\n",
       "      <th>4</th>\n",
       "      <td>104</td>\n",
       "      <td>samp4</td>\n",
       "      <td>46.618371</td>\n",
       "      <td>-92.127578</td>\n",
       "    </tr>\n",
       "    <tr>\n",
       "      <th>...</th>\n",
       "      <td>...</td>\n",
       "      <td>...</td>\n",
       "      <td>...</td>\n",
       "      <td>...</td>\n",
       "    </tr>\n",
       "    <tr>\n",
       "      <th>105</th>\n",
       "      <td>205</td>\n",
       "      <td>appleton</td>\n",
       "      <td>44.280000</td>\n",
       "      <td>-88.390000</td>\n",
       "    </tr>\n",
       "    <tr>\n",
       "      <th>106</th>\n",
       "      <td>206</td>\n",
       "      <td>waukesha</td>\n",
       "      <td>43.010000</td>\n",
       "      <td>-88.250000</td>\n",
       "    </tr>\n",
       "    <tr>\n",
       "      <th>107</th>\n",
       "      <td>207</td>\n",
       "      <td>oshkosh</td>\n",
       "      <td>44.020000</td>\n",
       "      <td>-88.560000</td>\n",
       "    </tr>\n",
       "    <tr>\n",
       "      <th>108</th>\n",
       "      <td>208</td>\n",
       "      <td>eauclaire</td>\n",
       "      <td>44.820000</td>\n",
       "      <td>-91.490000</td>\n",
       "    </tr>\n",
       "    <tr>\n",
       "      <th>109</th>\n",
       "      <td>209</td>\n",
       "      <td>janesville</td>\n",
       "      <td>42.690000</td>\n",
       "      <td>-89.010000</td>\n",
       "    </tr>\n",
       "  </tbody>\n",
       "</table>\n",
       "<p>110 rows × 4 columns</p>\n",
       "</div>"
      ],
      "text/plain": [
       "     place_id        name        lat        lon\n",
       "0         100       samp0  42.821935 -88.151540\n",
       "1         101       samp1  45.170729 -88.397469\n",
       "2         102       samp2  44.941672 -89.897391\n",
       "3         103       samp3  43.101989 -88.899274\n",
       "4         104       samp4  46.618371 -92.127578\n",
       "..        ...         ...        ...        ...\n",
       "105       205    appleton  44.280000 -88.390000\n",
       "106       206    waukesha  43.010000 -88.250000\n",
       "107       207     oshkosh  44.020000 -88.560000\n",
       "108       208   eauclaire  44.820000 -91.490000\n",
       "109       209  janesville  42.690000 -89.010000\n",
       "\n",
       "[110 rows x 4 columns]"
      ]
     },
     "execution_count": 12,
     "metadata": {},
     "output_type": "execute_result"
    }
   ],
   "source": [
    "pd.read_sql(\"SELECT * FROM places\", c)"
   ]
  },
  {
   "cell_type": "code",
   "execution_count": 13,
   "metadata": {},
   "outputs": [],
   "source": [
    "df = pd.read_sql(\"\"\"\n",
    "  SELECT * FROM \n",
    "  images INNER JOIN places \n",
    "  ON images.place_id = places.place_id\"\"\",\n",
    "  c)"
   ]
  },
  {
   "cell_type": "code",
   "execution_count": 14,
   "metadata": {},
   "outputs": [
    {
     "data": {
      "text/html": [
       "<div>\n",
       "<style scoped>\n",
       "    .dataframe tbody tr th:only-of-type {\n",
       "        vertical-align: middle;\n",
       "    }\n",
       "\n",
       "    .dataframe tbody tr th {\n",
       "        vertical-align: top;\n",
       "    }\n",
       "\n",
       "    .dataframe thead th {\n",
       "        text-align: right;\n",
       "    }\n",
       "</style>\n",
       "<table border=\"1\" class=\"dataframe\">\n",
       "  <thead>\n",
       "    <tr style=\"text-align: right;\">\n",
       "      <th></th>\n",
       "      <th>year</th>\n",
       "      <th>image</th>\n",
       "      <th>place_id</th>\n",
       "      <th>place_id</th>\n",
       "      <th>name</th>\n",
       "      <th>lat</th>\n",
       "      <th>lon</th>\n",
       "    </tr>\n",
       "  </thead>\n",
       "  <tbody>\n",
       "    <tr>\n",
       "      <th>0</th>\n",
       "      <td>2001</td>\n",
       "      <td>area0.npy</td>\n",
       "      <td>200</td>\n",
       "      <td>200</td>\n",
       "      <td>madison</td>\n",
       "      <td>43.08</td>\n",
       "      <td>-89.39</td>\n",
       "    </tr>\n",
       "    <tr>\n",
       "      <th>1</th>\n",
       "      <td>2001</td>\n",
       "      <td>area1.npy</td>\n",
       "      <td>201</td>\n",
       "      <td>201</td>\n",
       "      <td>milwaukee</td>\n",
       "      <td>43.06</td>\n",
       "      <td>-87.97</td>\n",
       "    </tr>\n",
       "    <tr>\n",
       "      <th>2</th>\n",
       "      <td>2001</td>\n",
       "      <td>area2.npy</td>\n",
       "      <td>202</td>\n",
       "      <td>202</td>\n",
       "      <td>greenbay</td>\n",
       "      <td>44.52</td>\n",
       "      <td>-87.99</td>\n",
       "    </tr>\n",
       "    <tr>\n",
       "      <th>3</th>\n",
       "      <td>2001</td>\n",
       "      <td>area3.npy</td>\n",
       "      <td>203</td>\n",
       "      <td>203</td>\n",
       "      <td>kenosha</td>\n",
       "      <td>42.59</td>\n",
       "      <td>-87.87</td>\n",
       "    </tr>\n",
       "    <tr>\n",
       "      <th>4</th>\n",
       "      <td>2001</td>\n",
       "      <td>area4.npy</td>\n",
       "      <td>204</td>\n",
       "      <td>204</td>\n",
       "      <td>racine</td>\n",
       "      <td>42.73</td>\n",
       "      <td>-87.81</td>\n",
       "    </tr>\n",
       "    <tr>\n",
       "      <th>...</th>\n",
       "      <td>...</td>\n",
       "      <td>...</td>\n",
       "      <td>...</td>\n",
       "      <td>...</td>\n",
       "      <td>...</td>\n",
       "      <td>...</td>\n",
       "      <td>...</td>\n",
       "    </tr>\n",
       "    <tr>\n",
       "      <th>165</th>\n",
       "      <td>2016</td>\n",
       "      <td>area165.npy</td>\n",
       "      <td>205</td>\n",
       "      <td>205</td>\n",
       "      <td>appleton</td>\n",
       "      <td>44.28</td>\n",
       "      <td>-88.39</td>\n",
       "    </tr>\n",
       "    <tr>\n",
       "      <th>166</th>\n",
       "      <td>2016</td>\n",
       "      <td>area166.npy</td>\n",
       "      <td>206</td>\n",
       "      <td>206</td>\n",
       "      <td>waukesha</td>\n",
       "      <td>43.01</td>\n",
       "      <td>-88.25</td>\n",
       "    </tr>\n",
       "    <tr>\n",
       "      <th>167</th>\n",
       "      <td>2016</td>\n",
       "      <td>area167.npy</td>\n",
       "      <td>207</td>\n",
       "      <td>207</td>\n",
       "      <td>oshkosh</td>\n",
       "      <td>44.02</td>\n",
       "      <td>-88.56</td>\n",
       "    </tr>\n",
       "    <tr>\n",
       "      <th>168</th>\n",
       "      <td>2016</td>\n",
       "      <td>area168.npy</td>\n",
       "      <td>208</td>\n",
       "      <td>208</td>\n",
       "      <td>eauclaire</td>\n",
       "      <td>44.82</td>\n",
       "      <td>-91.49</td>\n",
       "    </tr>\n",
       "    <tr>\n",
       "      <th>169</th>\n",
       "      <td>2016</td>\n",
       "      <td>area169.npy</td>\n",
       "      <td>209</td>\n",
       "      <td>209</td>\n",
       "      <td>janesville</td>\n",
       "      <td>42.69</td>\n",
       "      <td>-89.01</td>\n",
       "    </tr>\n",
       "  </tbody>\n",
       "</table>\n",
       "<p>170 rows × 7 columns</p>\n",
       "</div>"
      ],
      "text/plain": [
       "     year        image  place_id  place_id        name    lat    lon\n",
       "0    2001    area0.npy       200       200     madison  43.08 -89.39\n",
       "1    2001    area1.npy       201       201   milwaukee  43.06 -87.97\n",
       "2    2001    area2.npy       202       202    greenbay  44.52 -87.99\n",
       "3    2001    area3.npy       203       203     kenosha  42.59 -87.87\n",
       "4    2001    area4.npy       204       204      racine  42.73 -87.81\n",
       "..    ...          ...       ...       ...         ...    ...    ...\n",
       "165  2016  area165.npy       205       205    appleton  44.28 -88.39\n",
       "166  2016  area166.npy       206       206    waukesha  43.01 -88.25\n",
       "167  2016  area167.npy       207       207     oshkosh  44.02 -88.56\n",
       "168  2016  area168.npy       208       208   eauclaire  44.82 -91.49\n",
       "169  2016  area169.npy       209       209  janesville  42.69 -89.01\n",
       "\n",
       "[170 rows x 7 columns]"
      ]
     },
     "execution_count": 14,
     "metadata": {},
     "output_type": "execute_result"
    }
   ],
   "source": [
    "df"
   ]
  },
  {
   "cell_type": "code",
   "execution_count": 23,
   "metadata": {},
   "outputs": [
    {
     "data": {
      "text/plain": [
       "2001"
      ]
     },
     "execution_count": 23,
     "metadata": {},
     "output_type": "execute_result"
    }
   ],
   "source": [
    "df.loc[df[\"image\"] == \"area2.npy\"][\"year\"].values[0]"
   ]
  },
  {
   "cell_type": "code",
   "execution_count": null,
   "metadata": {},
   "outputs": [],
   "source": []
  },
  {
   "cell_type": "code",
   "execution_count": null,
   "metadata": {},
   "outputs": [],
   "source": []
  },
  {
   "cell_type": "code",
   "execution_count": 6,
   "metadata": {},
   "outputs": [
    {
     "data": {
      "text/html": [
       "<div>\n",
       "<style scoped>\n",
       "    .dataframe tbody tr th:only-of-type {\n",
       "        vertical-align: middle;\n",
       "    }\n",
       "\n",
       "    .dataframe tbody tr th {\n",
       "        vertical-align: top;\n",
       "    }\n",
       "\n",
       "    .dataframe thead th {\n",
       "        text-align: right;\n",
       "    }\n",
       "</style>\n",
       "<table border=\"1\" class=\"dataframe\">\n",
       "  <thead>\n",
       "    <tr style=\"text-align: right;\">\n",
       "      <th></th>\n",
       "      <th>year</th>\n",
       "      <th>image</th>\n",
       "      <th>place_id</th>\n",
       "      <th>place_id</th>\n",
       "      <th>name</th>\n",
       "      <th>lat</th>\n",
       "      <th>lon</th>\n",
       "    </tr>\n",
       "  </thead>\n",
       "  <tbody>\n",
       "    <tr>\n",
       "      <th>0</th>\n",
       "      <td>2001</td>\n",
       "      <td>area0.npy</td>\n",
       "      <td>200</td>\n",
       "      <td>200</td>\n",
       "      <td>madison</td>\n",
       "      <td>43.08</td>\n",
       "      <td>-89.39</td>\n",
       "    </tr>\n",
       "    <tr>\n",
       "      <th>10</th>\n",
       "      <td>2004</td>\n",
       "      <td>area10.npy</td>\n",
       "      <td>200</td>\n",
       "      <td>200</td>\n",
       "      <td>madison</td>\n",
       "      <td>43.08</td>\n",
       "      <td>-89.39</td>\n",
       "    </tr>\n",
       "    <tr>\n",
       "      <th>20</th>\n",
       "      <td>2006</td>\n",
       "      <td>area20.npy</td>\n",
       "      <td>200</td>\n",
       "      <td>200</td>\n",
       "      <td>madison</td>\n",
       "      <td>43.08</td>\n",
       "      <td>-89.39</td>\n",
       "    </tr>\n",
       "    <tr>\n",
       "      <th>30</th>\n",
       "      <td>2008</td>\n",
       "      <td>area30.npy</td>\n",
       "      <td>200</td>\n",
       "      <td>200</td>\n",
       "      <td>madison</td>\n",
       "      <td>43.08</td>\n",
       "      <td>-89.39</td>\n",
       "    </tr>\n",
       "    <tr>\n",
       "      <th>40</th>\n",
       "      <td>2011</td>\n",
       "      <td>area40.npy</td>\n",
       "      <td>200</td>\n",
       "      <td>200</td>\n",
       "      <td>madison</td>\n",
       "      <td>43.08</td>\n",
       "      <td>-89.39</td>\n",
       "    </tr>\n",
       "    <tr>\n",
       "      <th>50</th>\n",
       "      <td>2013</td>\n",
       "      <td>area50.npy</td>\n",
       "      <td>200</td>\n",
       "      <td>200</td>\n",
       "      <td>madison</td>\n",
       "      <td>43.08</td>\n",
       "      <td>-89.39</td>\n",
       "    </tr>\n",
       "    <tr>\n",
       "      <th>160</th>\n",
       "      <td>2016</td>\n",
       "      <td>area160.npy</td>\n",
       "      <td>200</td>\n",
       "      <td>200</td>\n",
       "      <td>madison</td>\n",
       "      <td>43.08</td>\n",
       "      <td>-89.39</td>\n",
       "    </tr>\n",
       "  </tbody>\n",
       "</table>\n",
       "</div>"
      ],
      "text/plain": [
       "     year        image  place_id  place_id     name    lat    lon\n",
       "0    2001    area0.npy       200       200  madison  43.08 -89.39\n",
       "10   2004   area10.npy       200       200  madison  43.08 -89.39\n",
       "20   2006   area20.npy       200       200  madison  43.08 -89.39\n",
       "30   2008   area30.npy       200       200  madison  43.08 -89.39\n",
       "40   2011   area40.npy       200       200  madison  43.08 -89.39\n",
       "50   2013   area50.npy       200       200  madison  43.08 -89.39\n",
       "160  2016  area160.npy       200       200  madison  43.08 -89.39"
      ]
     },
     "execution_count": 6,
     "metadata": {},
     "output_type": "execute_result"
    }
   ],
   "source": [
    "df = df.loc[df[\"name\"] == \"madison\"]\n",
    "df"
   ]
  },
  {
   "cell_type": "code",
   "execution_count": 7,
   "metadata": {},
   "outputs": [
    {
     "data": {
      "text/plain": [
       "0      2001\n",
       "10     2004\n",
       "20     2006\n",
       "30     2008\n",
       "40     2011\n",
       "50     2013\n",
       "160    2016\n",
       "Name: year, dtype: int64"
      ]
     },
     "execution_count": 7,
     "metadata": {},
     "output_type": "execute_result"
    }
   ],
   "source": [
    "df[\"year\"]"
   ]
  },
  {
   "cell_type": "code",
   "execution_count": 8,
   "metadata": {},
   "outputs": [
    {
     "ename": "KeyError",
     "evalue": "\"None of ['month'] are in the columns\"",
     "output_type": "error",
     "traceback": [
      "\u001b[0;31m---------------------------------------------------------------------------\u001b[0m",
      "\u001b[0;31mKeyError\u001b[0m                                  Traceback (most recent call last)",
      "\u001b[0;32m<ipython-input-8-c66d5b88d024>\u001b[0m in \u001b[0;36m<module>\u001b[0;34m\u001b[0m\n\u001b[1;32m      2\u001b[0m \u001b[0mnn\u001b[0m \u001b[0;34m=\u001b[0m \u001b[0mpd\u001b[0m\u001b[0;34m.\u001b[0m\u001b[0mDataFrame\u001b[0m\u001b[0;34m(\u001b[0m\u001b[0;34m)\u001b[0m\u001b[0;34m\u001b[0m\u001b[0;34m\u001b[0m\u001b[0m\n\u001b[1;32m      3\u001b[0m \u001b[0mnn\u001b[0m\u001b[0;34m[\u001b[0m\u001b[0;34m\"fdsa\"\u001b[0m\u001b[0;34m]\u001b[0m \u001b[0;34m=\u001b[0m \u001b[0mp\u001b[0m\u001b[0;34m\u001b[0m\u001b[0;34m\u001b[0m\u001b[0m\n\u001b[0;32m----> 4\u001b[0;31m \u001b[0mnn\u001b[0m\u001b[0;34m.\u001b[0m\u001b[0mset_index\u001b[0m\u001b[0;34m(\u001b[0m\u001b[0;34m'month'\u001b[0m\u001b[0;34m)\u001b[0m\u001b[0;34m\u001b[0m\u001b[0;34m\u001b[0m\u001b[0m\n\u001b[0m",
      "\u001b[0;32m~/.local/lib/python3.6/site-packages/pandas/core/frame.py\u001b[0m in \u001b[0;36mset_index\u001b[0;34m(self, keys, drop, append, inplace, verify_integrity)\u001b[0m\n\u001b[1;32m   4553\u001b[0m \u001b[0;34m\u001b[0m\u001b[0m\n\u001b[1;32m   4554\u001b[0m         \u001b[0;32mif\u001b[0m \u001b[0mmissing\u001b[0m\u001b[0;34m:\u001b[0m\u001b[0;34m\u001b[0m\u001b[0;34m\u001b[0m\u001b[0m\n\u001b[0;32m-> 4555\u001b[0;31m             \u001b[0;32mraise\u001b[0m \u001b[0mKeyError\u001b[0m\u001b[0;34m(\u001b[0m\u001b[0;34mf\"None of {missing} are in the columns\"\u001b[0m\u001b[0;34m)\u001b[0m\u001b[0;34m\u001b[0m\u001b[0;34m\u001b[0m\u001b[0m\n\u001b[0m\u001b[1;32m   4556\u001b[0m \u001b[0;34m\u001b[0m\u001b[0m\n\u001b[1;32m   4557\u001b[0m         \u001b[0;32mif\u001b[0m \u001b[0minplace\u001b[0m\u001b[0;34m:\u001b[0m\u001b[0;34m\u001b[0m\u001b[0;34m\u001b[0m\u001b[0m\n",
      "\u001b[0;31mKeyError\u001b[0m: \"None of ['month'] are in the columns\""
     ]
    }
   ],
   "source": [
    "p = [1,2,3,4,5,6,7]\n",
    "nn = pd.DataFrame()\n",
    "nn[\"fdsa\"] = p\n",
    "nn.set_index('month')"
   ]
  },
  {
   "cell_type": "code",
   "execution_count": null,
   "metadata": {},
   "outputs": [],
   "source": [
    "a = {}\n",
    "a[\"a\"] = 1\n",
    "a[\"b\"] = 3\n",
    "a[\"c\"] = 2\n",
    "max(a)"
   ]
  },
  {
   "cell_type": "code",
   "execution_count": null,
   "metadata": {},
   "outputs": [],
   "source": [
    "samp = df.loc[df[\"name\"].str.startswith(\"samp\")]\n",
    "samp[[\"lat\"]].values.min(),samp[[\"lat\"]].values.max()"
   ]
  },
  {
   "cell_type": "code",
   "execution_count": null,
   "metadata": {},
   "outputs": [],
   "source": [
    "samp.head()"
   ]
  },
  {
   "cell_type": "code",
   "execution_count": null,
   "metadata": {},
   "outputs": [],
   "source": [
    "df.head(50)"
   ]
  },
  {
   "cell_type": "code",
   "execution_count": null,
   "metadata": {},
   "outputs": [],
   "source": [
    "df.loc[df[\"name\"] == \"madison\"]"
   ]
  },
  {
   "cell_type": "code",
   "execution_count": null,
   "metadata": {},
   "outputs": [],
   "source": []
  },
  {
   "cell_type": "code",
   "execution_count": null,
   "metadata": {},
   "outputs": [],
   "source": []
  },
  {
   "cell_type": "code",
   "execution_count": null,
   "metadata": {},
   "outputs": [],
   "source": []
  },
  {
   "cell_type": "code",
   "execution_count": null,
   "metadata": {},
   "outputs": [],
   "source": [
    "from sklearn.linear_model import LinearRegression\n",
    "lr = LinearRegression()"
   ]
  },
  {
   "cell_type": "code",
   "execution_count": null,
   "metadata": {},
   "outputs": [],
   "source": [
    "a = [1,2,3]\n",
    "np.array(a).reshape(-1,1)"
   ]
  },
  {
   "cell_type": "code",
   "execution_count": null,
   "metadata": {},
   "outputs": [],
   "source": [
    "# Viewing a Map\n",
    "from zipfile import ZipFile\n",
    "import io\n",
    "import numpy as np\n",
    "from matplotlib import pyplot as plt\n",
    "from matplotlib.colors import ListedColormap\n",
    "\n",
    "with ZipFile(\"images.zip\") as zf:\n",
    "    with zf.open(\"area0.npy\") as f:\n",
    "        buf = io.BytesIO(f.read())\n",
    "        madison = np.load(buf)\n",
    "madison.shape"
   ]
  },
  {
   "cell_type": "code",
   "execution_count": null,
   "metadata": {},
   "outputs": [],
   "source": [
    "madison[:10,:10]"
   ]
  },
  {
   "cell_type": "code",
   "execution_count": null,
   "metadata": {},
   "outputs": [],
   "source": [
    "np.isin(madison, 41).mean()"
   ]
  },
  {
   "cell_type": "code",
   "execution_count": null,
   "metadata": {},
   "outputs": [],
   "source": [
    "madison.shape"
   ]
  },
  {
   "cell_type": "code",
   "execution_count": null,
   "metadata": {},
   "outputs": [],
   "source": [
    "plt.figure(figsize=(8,8))\n",
    "plt.imshow(madison)"
   ]
  },
  {
   "cell_type": "code",
   "execution_count": null,
   "metadata": {},
   "outputs": [],
   "source": [
    "use_cmap = np.zeros(shape=(256,4))\n",
    "use_cmap[:,-1] = 1\n",
    "uses = np.array([\n",
    "    [0, 0.00000000000, 0.00000000000, 0.00000000000],\n",
    "    [11, 0.27843137255, 0.41960784314, 0.62745098039],\n",
    "    [12, 0.81960784314, 0.86666666667, 0.97647058824],\n",
    "    [21, 0.86666666667, 0.78823529412, 0.78823529412],\n",
    "    [22, 0.84705882353, 0.57647058824, 0.50980392157],\n",
    "    [23, 0.92941176471, 0.00000000000, 0.00000000000],\n",
    "    [24, 0.66666666667, 0.00000000000, 0.00000000000],\n",
    "    [31, 0.69803921569, 0.67843137255, 0.63921568628],\n",
    "    [41, 0.40784313726, 0.66666666667, 0.38823529412],\n",
    "    [42, 0.10980392157, 0.38823529412, 0.18823529412],\n",
    "    [43, 0.70980392157, 0.78823529412, 0.55686274510],\n",
    "    [51, 0.64705882353, 0.54901960784, 0.18823529412],\n",
    "    [52, 0.80000000000, 0.72941176471, 0.48627450980],\n",
    "    [71, 0.88627450980, 0.88627450980, 0.75686274510],\n",
    "    [72, 0.78823529412, 0.78823529412, 0.46666666667],\n",
    "    [73, 0.60000000000, 0.75686274510, 0.27843137255],\n",
    "    [74, 0.46666666667, 0.67843137255, 0.57647058824],\n",
    "    [81, 0.85882352941, 0.84705882353, 0.23921568628],\n",
    "    [82, 0.66666666667, 0.43921568628, 0.15686274510],\n",
    "    [90, 0.72941176471, 0.84705882353, 0.91764705882],\n",
    "    [95, 0.43921568628, 0.63921568628, 0.72941176471],\n",
    "])\n",
    "for row in uses:\n",
    "    use_cmap[int(row[0]),:-1] = row[1:]\n",
    "use_cmap = ListedColormap(use_cmap)"
   ]
  },
  {
   "cell_type": "code",
   "execution_count": null,
   "metadata": {},
   "outputs": [],
   "source": [
    "plt.figure(figsize=(8,8)) # not needed if an ax is already defined\n",
    "plt.imshow(madison, cmap=use_cmap, vmin=0, vmax=255)"
   ]
  },
  {
   "cell_type": "code",
   "execution_count": null,
   "metadata": {},
   "outputs": [],
   "source": [
    "ddd = {'madison': 39.41575011973184,\n",
    " 'milwaukee': 58.12941870210729,\n",
    " 'greenbay': 29.485542145593904,\n",
    " 'kenosha': 29.637493773946375,\n",
    " 'racine': 24.95634033764371,\n",
    " 'appleton': 34.91475119731799,\n",
    " 'waukesha': 52.31102741858239,\n",
    " 'oshkosh': 14.563473419540237,\n",
    " 'eauclaire': 18.7823721863027,\n",
    " 'janesville': 16.033859255268197}"
   ]
  },
  {
   "cell_type": "code",
   "execution_count": null,
   "metadata": {},
   "outputs": [],
   "source": [
    "max(ddd, key=ddd.get)"
   ]
  },
  {
   "cell_type": "code",
   "execution_count": null,
   "metadata": {},
   "outputs": [],
   "source": [
    "data = pd.DataFrame()\n"
   ]
  },
  {
   "cell_type": "code",
   "execution_count": null,
   "metadata": {},
   "outputs": [],
   "source": [
    "a = [1,2,3]"
   ]
  },
  {
   "cell_type": "code",
   "execution_count": null,
   "metadata": {},
   "outputs": [],
   "source": [
    "data[\"a\"] = a\n",
    "data"
   ]
  },
  {
   "cell_type": "code",
   "execution_count": null,
   "metadata": {},
   "outputs": [],
   "source": []
  }
 ],
 "metadata": {
  "kernelspec": {
   "display_name": "Python 3",
   "language": "python",
   "name": "python3"
  },
  "language_info": {
   "codemirror_mode": {
    "name": "ipython",
    "version": 3
   },
   "file_extension": ".py",
   "mimetype": "text/x-python",
   "name": "python",
   "nbconvert_exporter": "python",
   "pygments_lexer": "ipython3",
   "version": "3.6.9"
  }
 },
 "nbformat": 4,
 "nbformat_minor": 4
}
