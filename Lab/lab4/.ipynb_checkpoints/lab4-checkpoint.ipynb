{
 "cells": [
  {
   "cell_type": "code",
   "execution_count": 13,
   "metadata": {},
   "outputs": [],
   "source": [
    "import pandas as pd\n",
    "from zipfile import ZipFile, ZIP_DEFLATED\n",
    "from io import TextIOWrapper\n",
    "\n",
    "with open(\"hello.txt\", \"w\") as f:\n",
    "    f.write(\"hello world\")\n",
    "\n",
    "with ZipFile(\"example.zip\", \"w\", compression=ZIP_DEFLATED) as zf:\n",
    "    with zf.open(\"hello.txt\", \"w\") as f:\n",
    "        f.write(bytes(\"hello world\", \"utf-8\"))\n",
    "    with zf.open(\"ha.txt\", \"w\") as f:\n",
    "        f.write(bytes(\"ha\"*10000, \"utf-8\"))\n",
    "    with zf.open(\"bugs.csv\", \"w\") as f:\n",
    "        pd.DataFrame([[\"Mon\",7], [\"Tue\",4], [\"Wed\",3], [\"Thu\",6], [\"Fri\",9]],\n",
    "                     columns=[\"day\", \"bugs\"]).to_csv(TextIOWrapper(f), index=False)"
   ]
  },
  {
   "cell_type": "code",
   "execution_count": 14,
   "metadata": {},
   "outputs": [
    {
     "name": "stdout",
     "output_type": "stream",
     "text": [
      "<ZipInfo filename='hello.txt' compress_type=deflate filemode='?rw-------' file_size=11 compress_size=13>\n",
      "<ZipInfo filename='ha.txt' compress_type=deflate filemode='?rw-------' file_size=20000 compress_size=39>\n",
      "<ZipInfo filename='bugs.csv' compress_type=deflate filemode='?rw-------' file_size=39 compress_size=41>\n"
     ]
    }
   ],
   "source": [
    "# ZipFile\n",
    "from zipfile import ZipFile\n",
    "\n",
    "with ZipFile('example.zip') as zf:\n",
    "    for info in zf.infolist():\n",
    "        print(info)"
   ]
  },
  {
   "cell_type": "code",
   "execution_count": 5,
   "metadata": {},
   "outputs": [
    {
     "name": "stdout",
     "output_type": "stream",
     "text": [
      "file hello.txt, 0.000 MB (uncompressed), 0.8 compression ratio\n",
      "file ha.txt, 0.019 MB (uncompressed), 512.8 compression ratio\n",
      "file bugs.csv, 0.000 MB (uncompressed), 1.0 compression ratio\n"
     ]
    }
   ],
   "source": [
    "with ZipFile('example.zip') as zf:\n",
    "    for info in zf.infolist():\n",
    "        orig_mb = info.file_size / (1024**2) # there are 1024**2 bytes in a MB\n",
    "        ratio = info.file_size / info.compress_size\n",
    "        s = \"file {name:s}, {mb:.3f} MB (uncompressed), {ratio:.1f} compression ratio\"\n",
    "        print(s.format(name=info.filename, mb=orig_mb, ratio=ratio))"
   ]
  },
  {
   "cell_type": "code",
   "execution_count": 6,
   "metadata": {},
   "outputs": [
    {
     "name": "stdout",
     "output_type": "stream",
     "text": [
      "<class 'str'> <class 'bytes'>\n"
     ]
    }
   ],
   "source": [
    "# Binary Open\n",
    "with open(\"hello.txt\", \"r\") as f:\n",
    "    data1 = f.read()\n",
    "\n",
    "with open(\"hello.txt\", \"rb\") as f:\n",
    "    data2 = f.read()\n",
    "\n",
    "print(type(data1), type(data2))"
   ]
  },
  {
   "cell_type": "code",
   "execution_count": 7,
   "metadata": {},
   "outputs": [],
   "source": [
    "from io import TextIOWrapper"
   ]
  },
  {
   "cell_type": "code",
   "execution_count": 8,
   "metadata": {},
   "outputs": [
    {
     "name": "stdout",
     "output_type": "stream",
     "text": [
      "<class 'str'>\n"
     ]
    }
   ],
   "source": [
    "with open(\"hello.txt\", \"rb\") as f:\n",
    "    tio = TextIOWrapper(f)\n",
    "    data3 = tio.read()\n",
    "print(type(data3))\n",
    "\n",
    "# data1 as a shorthand for what we did to get data3."
   ]
  },
  {
   "cell_type": "code",
   "execution_count": 9,
   "metadata": {},
   "outputs": [
    {
     "name": "stdout",
     "output_type": "stream",
     "text": [
      "b'hello world'\n"
     ]
    }
   ],
   "source": [
    "# Reading Files\n",
    "with ZipFile('example.zip') as zf:\n",
    "    with zf.open(\"hello.txt\", \"r\") as f:\n",
    "        print(f.read()) "
   ]
  },
  {
   "cell_type": "code",
   "execution_count": 10,
   "metadata": {},
   "outputs": [
    {
     "name": "stdout",
     "output_type": "stream",
     "text": [
      "hello world\n"
     ]
    }
   ],
   "source": [
    "with ZipFile('example.zip') as zf:\n",
    "    with zf.open(\"hello.txt\", \"r\") as f:\n",
    "        tio = TextIOWrapper(f)\n",
    "        print(tio.read())"
   ]
  },
  {
   "cell_type": "code",
   "execution_count": 11,
   "metadata": {
    "scrolled": true
   },
   "outputs": [
    {
     "data": {
      "text/html": [
       "<div>\n",
       "<style scoped>\n",
       "    .dataframe tbody tr th:only-of-type {\n",
       "        vertical-align: middle;\n",
       "    }\n",
       "\n",
       "    .dataframe tbody tr th {\n",
       "        vertical-align: top;\n",
       "    }\n",
       "\n",
       "    .dataframe thead th {\n",
       "        text-align: right;\n",
       "    }\n",
       "</style>\n",
       "<table border=\"1\" class=\"dataframe\">\n",
       "  <thead>\n",
       "    <tr style=\"text-align: right;\">\n",
       "      <th></th>\n",
       "      <th>day</th>\n",
       "      <th>bugs</th>\n",
       "    </tr>\n",
       "  </thead>\n",
       "  <tbody>\n",
       "    <tr>\n",
       "      <th>0</th>\n",
       "      <td>Mon</td>\n",
       "      <td>7</td>\n",
       "    </tr>\n",
       "    <tr>\n",
       "      <th>1</th>\n",
       "      <td>Tue</td>\n",
       "      <td>4</td>\n",
       "    </tr>\n",
       "    <tr>\n",
       "      <th>2</th>\n",
       "      <td>Wed</td>\n",
       "      <td>3</td>\n",
       "    </tr>\n",
       "    <tr>\n",
       "      <th>3</th>\n",
       "      <td>Thu</td>\n",
       "      <td>6</td>\n",
       "    </tr>\n",
       "    <tr>\n",
       "      <th>4</th>\n",
       "      <td>Fri</td>\n",
       "      <td>9</td>\n",
       "    </tr>\n",
       "  </tbody>\n",
       "</table>\n",
       "</div>"
      ],
      "text/plain": [
       "   day  bugs\n",
       "0  Mon     7\n",
       "1  Tue     4\n",
       "2  Wed     3\n",
       "3  Thu     6\n",
       "4  Fri     9"
      ]
     },
     "execution_count": 11,
     "metadata": {},
     "output_type": "execute_result"
    }
   ],
   "source": [
    "# Pandas\n",
    "with ZipFile('example.zip') as zf:\n",
    "    with zf.open(\"bugs.csv\") as f:\n",
    "         df = pd.read_csv(f)\n",
    "df"
   ]
  }
 ],
 "metadata": {
  "kernelspec": {
   "display_name": "Python 3",
   "language": "python",
   "name": "python3"
  },
  "language_info": {
   "codemirror_mode": {
    "name": "ipython",
    "version": 3
   },
   "file_extension": ".py",
   "mimetype": "text/x-python",
   "name": "python",
   "nbconvert_exporter": "python",
   "pygments_lexer": "ipython3",
   "version": "3.6.9"
  }
 },
 "nbformat": 4,
 "nbformat_minor": 4
}
