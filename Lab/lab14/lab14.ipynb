{
 "cells": [
  {
   "cell_type": "markdown",
   "metadata": {},
   "source": [
    "# Step 1: Original to String"
   ]
  },
  {
   "cell_type": "code",
   "execution_count": 1,
   "metadata": {},
   "outputs": [
    {
     "data": {
      "text/plain": [
       "bytes"
      ]
     },
     "execution_count": 1,
     "metadata": {},
     "output_type": "execute_result"
    }
   ],
   "source": [
    "from zipfile import ZipFile\n",
    "\n",
    "with ZipFile(\"dataset_diabetes.zip\") as zf:\n",
    "    with zf.open(\"dataset_diabetes/IDs_mapping.csv\") as f:\n",
    "        data = f.read()\n",
    "type(data)"
   ]
  },
  {
   "cell_type": "code",
   "execution_count": 2,
   "metadata": {},
   "outputs": [
    {
     "data": {
      "text/plain": [
       "str"
      ]
     },
     "execution_count": 2,
     "metadata": {},
     "output_type": "execute_result"
    }
   ],
   "source": [
    "from zipfile import ZipFile\n",
    "from io import TextIOWrapper\n",
    "\n",
    "with ZipFile(\"dataset_diabetes.zip\") as zf:\n",
    "    with zf.open(\"dataset_diabetes/IDs_mapping.csv\") as f:\n",
    "        data = TextIOWrapper(f).read()\n",
    "type(data)"
   ]
  },
  {
   "cell_type": "code",
   "execution_count": 3,
   "metadata": {},
   "outputs": [
    {
     "data": {
      "text/plain": [
       "'admission_type_id,description\\n1,Emergency\\n2,Urgent\\n3,Elective\\n4,Newborn\\n5,Not Available\\n6,NULL\\n7,Trauma Center\\n8,Not Mapped\\n,\\ndischarge_disposition_id,description\\n1,Discharged to home\\n2,Discharged/transferred to another short term hospital\\n3,Discharged/transferred to SNF\\n4,Discharged/transferred to ICF\\n5,Discharged/transferred to another type of inpatient care institution\\n6,Discharged/transferred to home with home health service\\n7,Left AMA\\n8,Discharged/transferred to home under care of Home IV provider\\n9,Admitted as an inpatient to this hospital\\n10,Neonate discharged to another hospital for neonatal aftercare\\n11,Expired\\n12,Still patient or expected to return for outpatient services\\n13,Hospice / home\\n14,Hospice / medical facility\\n15,Discharged/transferred within this institution to Medicare approved swing bed\\n16,Discharged/transferred/referred another institution for outpatient services\\n17,Discharged/transferred/referred to this institution for outpatient services\\n18,NULL\\n19,\"Expired at home. Medicaid only, hospice.\"\\n20,\"Expired in a medical facility. Medicaid only, hospice.\"\\n21,\"Expired, place unknown. Medicaid only, hospice.\"\\n22,Discharged/transferred to another rehab fac including rehab units of a hospital .\\n23,Discharged/transferred to a long term care hospital.\\n24,Discharged/transferred to a nursing facility certified under Medicaid but not certified under Medicare.\\n25,Not Mapped\\n26,Unknown/Invalid\\n30,Discharged/transferred to another Type of Health Care Institution not Defined Elsewhere\\n27,Discharged/transferred to a federal health care facility.\\n28,Discharged/transferred/referred to a psychiatric hospital of psychiatric distinct part unit of a hospital\\n29,Discharged/transferred to a Critical Access Hospital (CAH).\\n,\\nadmission_source_id,description\\n1, Physician Referral\\n2,Clinic Referral\\n3,HMO Referral\\n4,Transfer from a hospital\\n5, Transfer from a Skilled Nursing Facility (SNF)\\n6, Transfer from another health care facility\\n7, Emergency Room\\n8, Court/Law Enforcement\\n9, Not Available\\n10, Transfer from critial access hospital\\n11,Normal Delivery\\n12, Premature Delivery\\n13, Sick Baby\\n14, Extramural Birth\\n15,Not Available\\n17,NULL\\n18, Transfer From Another Home Health Agency\\n19,Readmission to Same Home Health Agency\\n20, Not Mapped\\n21,Unknown/Invalid\\n22, Transfer from hospital inpt/same fac reslt in a sep claim\\n23, Born inside this hospital\\n24, Born outside this hospital\\n25, Transfer from Ambulatory Surgery Center\\n26,Transfer from Hospice\\n'"
      ]
     },
     "execution_count": 3,
     "metadata": {},
     "output_type": "execute_result"
    }
   ],
   "source": [
    "data"
   ]
  },
  {
   "cell_type": "markdown",
   "metadata": {},
   "source": [
    "# Step 2: Creating Three CSV Files"
   ]
  },
  {
   "cell_type": "code",
   "execution_count": 4,
   "metadata": {},
   "outputs": [
    {
     "name": "stdout",
     "output_type": "stream",
     "text": [
      "admission_type_id,description\n",
      "1,Emergency\n",
      "2,Urgent\n",
      "3,Elective\n",
      "4,Newborn\n",
      "5,Not Available\n",
      "6,NULL\n",
      "7,Trauma Center\n",
      "8,Not Mapped\n",
      ",\n",
      "discharge_disposition_id,description\n",
      "1,Discharged to home\n",
      "2,Discharged/transferred to another short term hospital\n",
      "3,Discharged/transferred to SNF\n",
      "4,Discharged/transferred to ICF\n",
      "5,Discharged/transferred to another type of inpatient care institution\n",
      "6,Discharged/transferred to home with home health service\n",
      "7,Left AMA\n",
      "8,Discharged/transferred to home under care of Home IV provider\n",
      "9,Admitted as an inpatient to this hospital\n",
      "10,Neonate discharged to another hospital for neonatal aftercare\n",
      "11,Expired\n",
      "12,Still patient or expected to return for outpatient services\n",
      "13,Hospice / home\n",
      "14,Hospice / medical facility\n",
      "15,Discharged/transferred within this institution to Medicare approved swing bed\n",
      "16,Discharged/transferred/referred another institution for outpatient services\n",
      "17,Discharged/transferred/referred to this institution for outpatient services\n",
      "18,NULL\n",
      "19,\"Expired at home. Medicaid only, hospice.\"\n",
      "20,\"Expired in a medical facility. Medicaid only, hospice.\"\n",
      "21,\"Expired, place unknown. Medicaid only, hospice.\"\n",
      "22,Discharged/transferred to another rehab fac including rehab units of a hospital .\n",
      "23,Discharged/transferred to a long term care hospital.\n",
      "24,Discharged/transferred to a nursing facility certified under Medicaid but not certified under Medicare.\n",
      "25,Not Mapped\n",
      "26,Unknown/Invalid\n",
      "30,Discharged/transferred to another Type of Health Care Institution not Defined Elsewhere\n",
      "27,Discharged/transferred to a federal health care facility.\n",
      "28,Discharged/transferred/referred to a psychiatric hospital of psychiatric distinct part unit of a hospital\n",
      "29,Discharged/transferred to a Critical Access Hospital (CAH).\n",
      ",\n",
      "admission_source_id,description\n",
      "1, Physician Referral\n",
      "2,Clinic Referral\n",
      "3,HMO Referral\n",
      "4,Transfer from a hospital\n",
      "5, Transfer from a Skilled Nursing Facility (SNF)\n",
      "6, Transfer from another health care facility\n",
      "7, Emergency Room\n",
      "8, Court/Law Enforcement\n",
      "9, Not Available\n",
      "10, Transfer from critial access hospital\n",
      "11,Normal Delivery\n",
      "12, Premature Delivery\n",
      "13, Sick Baby\n",
      "14, Extramural Birth\n",
      "15,Not Available\n",
      "17,NULL\n",
      "18, Transfer From Another Home Health Agency\n",
      "19,Readmission to Same Home Health Agency\n",
      "20, Not Mapped\n",
      "21,Unknown/Invalid\n",
      "22, Transfer from hospital inpt/same fac reslt in a sep claim\n",
      "23, Born inside this hospital\n",
      "24, Born outside this hospital\n",
      "25, Transfer from Ambulatory Surgery Center\n",
      "26,Transfer from Hospice\n",
      "\n"
     ]
    }
   ],
   "source": [
    "print(data)"
   ]
  },
  {
   "cell_type": "code",
   "execution_count": 5,
   "metadata": {},
   "outputs": [
    {
     "data": {
      "text/plain": [
       "3"
      ]
     },
     "execution_count": 5,
     "metadata": {},
     "output_type": "execute_result"
    }
   ],
   "source": [
    "parts = data.split(\"\\n,\\n\")\n",
    "len(parts)"
   ]
  },
  {
   "cell_type": "code",
   "execution_count": 6,
   "metadata": {},
   "outputs": [
    {
     "name": "stdout",
     "output_type": "stream",
     "text": [
      "admission_type_id.csv\n",
      "discharge_disposition_id.csv\n",
      "admission_source_id.csv\n"
     ]
    }
   ],
   "source": [
    "for p in parts:\n",
    "    name = p[:p.index(\",\")] + \".csv\"\n",
    "    print(name)\n",
    "    # TODO: write the string p to a file named name.\n",
    "    with open(name,\"w\") as f:\n",
    "        f.write(p)\n",
    "    # no need to use the CSV module!"
   ]
  },
  {
   "cell_type": "markdown",
   "metadata": {},
   "source": [
    "# Step 3: CSVs to DataFrame\n"
   ]
  },
  {
   "cell_type": "code",
   "execution_count": 7,
   "metadata": {},
   "outputs": [],
   "source": [
    "import pandas as pd\n",
    "df = pd.read_csv(\"admission_type_id.csv\")\n",
    "df1 = pd.read_csv(\"discharge_disposition_id.csv\")\n",
    "df2 = pd.read_csv(\"admission_source_id.csv\")"
   ]
  },
  {
   "cell_type": "code",
   "execution_count": 8,
   "metadata": {},
   "outputs": [
    {
     "data": {
      "text/html": [
       "<div>\n",
       "<style scoped>\n",
       "    .dataframe tbody tr th:only-of-type {\n",
       "        vertical-align: middle;\n",
       "    }\n",
       "\n",
       "    .dataframe tbody tr th {\n",
       "        vertical-align: top;\n",
       "    }\n",
       "\n",
       "    .dataframe thead th {\n",
       "        text-align: right;\n",
       "    }\n",
       "</style>\n",
       "<table border=\"1\" class=\"dataframe\">\n",
       "  <thead>\n",
       "    <tr style=\"text-align: right;\">\n",
       "      <th></th>\n",
       "      <th>admission_type_id</th>\n",
       "      <th>description</th>\n",
       "    </tr>\n",
       "  </thead>\n",
       "  <tbody>\n",
       "    <tr>\n",
       "      <th>0</th>\n",
       "      <td>1</td>\n",
       "      <td>Emergency</td>\n",
       "    </tr>\n",
       "    <tr>\n",
       "      <th>1</th>\n",
       "      <td>2</td>\n",
       "      <td>Urgent</td>\n",
       "    </tr>\n",
       "    <tr>\n",
       "      <th>2</th>\n",
       "      <td>3</td>\n",
       "      <td>Elective</td>\n",
       "    </tr>\n",
       "    <tr>\n",
       "      <th>3</th>\n",
       "      <td>4</td>\n",
       "      <td>Newborn</td>\n",
       "    </tr>\n",
       "    <tr>\n",
       "      <th>4</th>\n",
       "      <td>5</td>\n",
       "      <td>Not Available</td>\n",
       "    </tr>\n",
       "    <tr>\n",
       "      <th>5</th>\n",
       "      <td>6</td>\n",
       "      <td>NaN</td>\n",
       "    </tr>\n",
       "    <tr>\n",
       "      <th>6</th>\n",
       "      <td>7</td>\n",
       "      <td>Trauma Center</td>\n",
       "    </tr>\n",
       "    <tr>\n",
       "      <th>7</th>\n",
       "      <td>8</td>\n",
       "      <td>Not Mapped</td>\n",
       "    </tr>\n",
       "  </tbody>\n",
       "</table>\n",
       "</div>"
      ],
      "text/plain": [
       "   admission_type_id    description\n",
       "0                  1      Emergency\n",
       "1                  2         Urgent\n",
       "2                  3       Elective\n",
       "3                  4        Newborn\n",
       "4                  5  Not Available\n",
       "5                  6            NaN\n",
       "6                  7  Trauma Center\n",
       "7                  8     Not Mapped"
      ]
     },
     "execution_count": 8,
     "metadata": {},
     "output_type": "execute_result"
    }
   ],
   "source": [
    "df"
   ]
  },
  {
   "cell_type": "markdown",
   "metadata": {},
   "source": [
    "# Step 4: DataFrame to dictionary\n"
   ]
  },
  {
   "cell_type": "code",
   "execution_count": 9,
   "metadata": {},
   "outputs": [
    {
     "data": {
      "text/plain": [
       "{1: 'Emergency',\n",
       " 2: 'Urgent',\n",
       " 3: 'Elective',\n",
       " 4: 'Newborn',\n",
       " 5: 'Not Available',\n",
       " 6: nan,\n",
       " 7: 'Trauma Center',\n",
       " 8: 'Not Mapped'}"
      ]
     },
     "execution_count": 9,
     "metadata": {},
     "output_type": "execute_result"
    }
   ],
   "source": [
    "df.set_index(\"admission_type_id\")\n",
    "df.set_index(\"admission_type_id\")[\"description\"]\n",
    "dict(df.set_index(\"admission_type_id\")[\"description\"])"
   ]
  },
  {
   "cell_type": "code",
   "execution_count": 10,
   "metadata": {},
   "outputs": [
    {
     "data": {
      "text/html": [
       "<div>\n",
       "<style scoped>\n",
       "    .dataframe tbody tr th:only-of-type {\n",
       "        vertical-align: middle;\n",
       "    }\n",
       "\n",
       "    .dataframe tbody tr th {\n",
       "        vertical-align: top;\n",
       "    }\n",
       "\n",
       "    .dataframe thead th {\n",
       "        text-align: right;\n",
       "    }\n",
       "</style>\n",
       "<table border=\"1\" class=\"dataframe\">\n",
       "  <thead>\n",
       "    <tr style=\"text-align: right;\">\n",
       "      <th></th>\n",
       "      <th>description</th>\n",
       "    </tr>\n",
       "    <tr>\n",
       "      <th>admission_type_id</th>\n",
       "      <th></th>\n",
       "    </tr>\n",
       "  </thead>\n",
       "  <tbody>\n",
       "    <tr>\n",
       "      <th>1</th>\n",
       "      <td>Emergency</td>\n",
       "    </tr>\n",
       "    <tr>\n",
       "      <th>2</th>\n",
       "      <td>Urgent</td>\n",
       "    </tr>\n",
       "    <tr>\n",
       "      <th>3</th>\n",
       "      <td>Elective</td>\n",
       "    </tr>\n",
       "    <tr>\n",
       "      <th>4</th>\n",
       "      <td>Newborn</td>\n",
       "    </tr>\n",
       "    <tr>\n",
       "      <th>5</th>\n",
       "      <td>Not Available</td>\n",
       "    </tr>\n",
       "    <tr>\n",
       "      <th>6</th>\n",
       "      <td>NaN</td>\n",
       "    </tr>\n",
       "    <tr>\n",
       "      <th>7</th>\n",
       "      <td>Trauma Center</td>\n",
       "    </tr>\n",
       "    <tr>\n",
       "      <th>8</th>\n",
       "      <td>Not Mapped</td>\n",
       "    </tr>\n",
       "  </tbody>\n",
       "</table>\n",
       "</div>"
      ],
      "text/plain": [
       "                     description\n",
       "admission_type_id               \n",
       "1                      Emergency\n",
       "2                         Urgent\n",
       "3                       Elective\n",
       "4                        Newborn\n",
       "5                  Not Available\n",
       "6                            NaN\n",
       "7                  Trauma Center\n",
       "8                     Not Mapped"
      ]
     },
     "execution_count": 10,
     "metadata": {},
     "output_type": "execute_result"
    }
   ],
   "source": [
    "df.set_index(\"admission_type_id\")"
   ]
  },
  {
   "cell_type": "code",
   "execution_count": 11,
   "metadata": {},
   "outputs": [
    {
     "data": {
      "text/plain": [
       "admission_type_id\n",
       "1        Emergency\n",
       "2           Urgent\n",
       "3         Elective\n",
       "4          Newborn\n",
       "5    Not Available\n",
       "6              NaN\n",
       "7    Trauma Center\n",
       "8       Not Mapped\n",
       "Name: description, dtype: object"
      ]
     },
     "execution_count": 11,
     "metadata": {},
     "output_type": "execute_result"
    }
   ],
   "source": [
    "df.set_index(\"admission_type_id\")\n",
    "df.set_index(\"admission_type_id\")[\"description\"]"
   ]
  },
  {
   "cell_type": "code",
   "execution_count": 12,
   "metadata": {},
   "outputs": [
    {
     "data": {
      "text/html": [
       "<div>\n",
       "<style scoped>\n",
       "    .dataframe tbody tr th:only-of-type {\n",
       "        vertical-align: middle;\n",
       "    }\n",
       "\n",
       "    .dataframe tbody tr th {\n",
       "        vertical-align: top;\n",
       "    }\n",
       "\n",
       "    .dataframe thead th {\n",
       "        text-align: right;\n",
       "    }\n",
       "</style>\n",
       "<table border=\"1\" class=\"dataframe\">\n",
       "  <thead>\n",
       "    <tr style=\"text-align: right;\">\n",
       "      <th></th>\n",
       "      <th>admission_type_id</th>\n",
       "      <th>description</th>\n",
       "    </tr>\n",
       "  </thead>\n",
       "  <tbody>\n",
       "    <tr>\n",
       "      <th>0</th>\n",
       "      <td>1</td>\n",
       "      <td>Emergency</td>\n",
       "    </tr>\n",
       "    <tr>\n",
       "      <th>1</th>\n",
       "      <td>2</td>\n",
       "      <td>Urgent</td>\n",
       "    </tr>\n",
       "    <tr>\n",
       "      <th>2</th>\n",
       "      <td>3</td>\n",
       "      <td>Elective</td>\n",
       "    </tr>\n",
       "    <tr>\n",
       "      <th>3</th>\n",
       "      <td>4</td>\n",
       "      <td>Newborn</td>\n",
       "    </tr>\n",
       "    <tr>\n",
       "      <th>4</th>\n",
       "      <td>5</td>\n",
       "      <td>Not Available</td>\n",
       "    </tr>\n",
       "    <tr>\n",
       "      <th>5</th>\n",
       "      <td>6</td>\n",
       "      <td>NaN</td>\n",
       "    </tr>\n",
       "    <tr>\n",
       "      <th>6</th>\n",
       "      <td>7</td>\n",
       "      <td>Trauma Center</td>\n",
       "    </tr>\n",
       "    <tr>\n",
       "      <th>7</th>\n",
       "      <td>8</td>\n",
       "      <td>Not Mapped</td>\n",
       "    </tr>\n",
       "  </tbody>\n",
       "</table>\n",
       "</div>"
      ],
      "text/plain": [
       "   admission_type_id    description\n",
       "0                  1      Emergency\n",
       "1                  2         Urgent\n",
       "2                  3       Elective\n",
       "3                  4        Newborn\n",
       "4                  5  Not Available\n",
       "5                  6            NaN\n",
       "6                  7  Trauma Center\n",
       "7                  8     Not Mapped"
      ]
     },
     "execution_count": 12,
     "metadata": {},
     "output_type": "execute_result"
    }
   ],
   "source": [
    "df"
   ]
  },
  {
   "cell_type": "code",
   "execution_count": null,
   "metadata": {},
   "outputs": [],
   "source": []
  }
 ],
 "metadata": {
  "kernelspec": {
   "display_name": "Python 3",
   "language": "python",
   "name": "python3"
  },
  "language_info": {
   "codemirror_mode": {
    "name": "ipython",
    "version": 3
   },
   "file_extension": ".py",
   "mimetype": "text/x-python",
   "name": "python",
   "nbconvert_exporter": "python",
   "pygments_lexer": "ipython3",
   "version": "3.6.9"
  }
 },
 "nbformat": 4,
 "nbformat_minor": 4
}
